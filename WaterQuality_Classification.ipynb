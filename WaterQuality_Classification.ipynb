{
 "cells": [
  {
   "cell_type": "code",
   "execution_count": 2,
   "metadata": {},
   "outputs": [],
   "source": [
    "import pandas as pd\n",
    "\n",
    "# Chemin vers les fichiers CSV\n",
    "path_1 = 'data-2018.csv'\n",
    "path_2 = 'data-2019.csv'\n",
    "path_3 = 'data-2020.csv'\n",
    "\n",
    "output_path = 'water_quality_model.csv'\n",
    "\n",
    "df18 = pd.read_csv(path_1)\n",
    "df19= pd.read_csv(path_2)\n",
    "df20 = pd.read_csv(path_3)\n"
   ]
  },
  {
   "cell_type": "code",
   "execution_count": 4,
   "metadata": {},
   "outputs": [
    {
     "data": {
      "text/plain": [
       "((374, 26),\n",
       " Index(['sno', 'district', 'mandal', 'village', 'lat_gis', 'long_gis', 'gwl',\n",
       "        'season', 'pH', 'E.C', 'TDS', 'CO3', 'HCO3', 'Cl', 'F', 'NO3 ', 'SO4',\n",
       "        'Na', 'K', 'Ca', 'Mg', 'T.H', 'SAR', 'Classification', 'RSC  meq  / L',\n",
       "        'Classification.1'],\n",
       "       dtype='object'))"
      ]
     },
     "execution_count": 4,
     "metadata": {},
     "output_type": "execute_result"
    }
   ],
   "source": [
    "df18.shape, df18.columns"
   ]
  },
  {
   "cell_type": "code",
   "execution_count": 6,
   "metadata": {},
   "outputs": [
    {
     "data": {
      "text/plain": [
       "((364, 26),\n",
       " Index(['sno', 'district', 'mandal', 'village', 'lat_gis', 'long_gis', 'gwl',\n",
       "        'season', 'pH', 'EC', 'TDS', 'CO_-2 ', 'HCO_ - ', 'Cl -', 'F -',\n",
       "        'NO3- ', 'SO4-2', 'Na+', 'K+', 'Ca+2', 'Mg+2', 'T.H', 'SAR',\n",
       "        'Classification', 'RSC  meq  / L', 'Classification.1'],\n",
       "       dtype='object'))"
      ]
     },
     "execution_count": 6,
     "metadata": {},
     "output_type": "execute_result"
    }
   ],
   "source": [
    "df19.shape, df19.columns"
   ]
  },
  {
   "cell_type": "code",
   "execution_count": 8,
   "metadata": {},
   "outputs": [
    {
     "data": {
      "text/plain": [
       "((368, 27),\n",
       " Index(['sno', 'district', 'mandal', 'village', 'lat_gis', 'long_gis', 'gwl',\n",
       "        'season', 'Unnamed: 8', 'pH', 'E.C', 'TDS', 'CO3', 'HCO3', 'Cl', 'F',\n",
       "        'NO3 ', 'SO4', 'Na', 'K', 'Ca', 'Mg', 'T.H', 'SAR', 'Classification',\n",
       "        'RSC  meq  / L', 'Classification.1'],\n",
       "       dtype='object'))"
      ]
     },
     "execution_count": 8,
     "metadata": {},
     "output_type": "execute_result"
    }
   ],
   "source": [
    "df20.shape, df20.columns"
   ]
  },
  {
   "cell_type": "code",
   "execution_count": 10,
   "metadata": {},
   "outputs": [
    {
     "data": {
      "text/plain": [
       "(1106, 26)"
      ]
     },
     "execution_count": 10,
     "metadata": {},
     "output_type": "execute_result"
    }
   ],
   "source": [
    "# Supprimer la colonne inutile \"Unnamed: 8\" dans df20\n",
    "df20.drop(columns=['Unnamed: 8'], inplace=True)\n",
    "df20.rename(columns={'NO3 ': 'NO3'}, inplace=True)\n",
    "\n",
    "# On renomme le noms des features pour qu'elles correspondent à df20 \n",
    "df18 = df18.rename(columns=dict(zip(df18.columns, df20.columns)))\n",
    "df19 = df19.rename(columns=dict(zip(df19.columns, df20.columns)))\n",
    "\n",
    "# Concaténer les 3 DataFrames\n",
    "df_concat = pd.concat([df18, df19, df20], keys=['2018', '2019', '2020'], ignore_index=True)\n",
    "\n",
    "df = df_concat.copy()\n",
    "df.shape"
   ]
  },
  {
   "cell_type": "code",
   "execution_count": 12,
   "metadata": {},
   "outputs": [
    {
     "data": {
      "text/plain": [
       "sno                   0\n",
       "district              0\n",
       "mandal                0\n",
       "village               0\n",
       "lat_gis             0.0\n",
       "long_gis            0.0\n",
       "gwl                 0.0\n",
       "season                0\n",
       "pH                    0\n",
       "E.C                   0\n",
       "TDS                 0.0\n",
       "CO3                 0.0\n",
       "HCO3                0.0\n",
       "Cl                    0\n",
       "F                   0.0\n",
       "NO3                 0.0\n",
       "SO4                 0.0\n",
       "Na                  0.0\n",
       "K                   0.0\n",
       "Ca                  0.0\n",
       "Mg                  0.0\n",
       "T.H                 0.0\n",
       "SAR                 0.0\n",
       "Classification        0\n",
       "RSC  meq  / L       0.0\n",
       "Classification.1      0\n",
       "dtype: object"
      ]
     },
     "execution_count": 12,
     "metadata": {},
     "output_type": "execute_result"
    }
   ],
   "source": [
    "# Interroger les valeurs doublons\n",
    "df.loc[df.duplicated(keep=False)].sum()"
   ]
  },
  {
   "cell_type": "code",
   "execution_count": 14,
   "metadata": {},
   "outputs": [
    {
     "data": {
      "image/png": "[encoded data removed]",
      "text/plain": [
       "<Figure size 500x300 with 1 Axes>"
      ]
     },
     "metadata": {},
     "output_type": "display_data"
    }
   ],
   "source": [
    "import seaborn as sns\n",
    "import matplotlib.pyplot as plt\n",
    "\n",
    "plt.figure(figsize=(5, 3))  # Définir la taille de la figure\n",
    "sns.heatmap(df.isna(), cbar=False, cmap=\"viridis\")\n",
    "plt.title(\"Heatmap des Données Manquantes\")\n",
    "plt.show()"
   ]
  },
  {
   "cell_type": "code",
   "execution_count": 16,
   "metadata": {},
   "outputs": [
    {
     "data": {
      "text/html": [
       "<div>\n",
       "<style scoped>\n",
       "    .dataframe tbody tr th:only-of-type {\n",
       "        vertical-align: middle;\n",
       "    }\n",
       "\n",
       "    .dataframe tbody tr th {\n",
       "        vertical-align: top;\n",
       "    }\n",
       "\n",
       "    .dataframe thead th {\n",
       "        text-align: right;\n",
       "    }\n",
       "</style>\n",
       "<table border=\"1\" class=\"dataframe\">\n",
       "  <thead>\n",
       "    <tr style=\"text-align: right;\">\n",
       "      <th></th>\n",
       "      <th>index</th>\n",
       "      <th>isna</th>\n",
       "      <th>Dtype</th>\n",
       "    </tr>\n",
       "  </thead>\n",
       "  <tbody>\n",
       "    <tr>\n",
       "      <th>0</th>\n",
       "      <td>CO3</td>\n",
       "      <td>160</td>\n",
       "      <td>float64</td>\n",
       "    </tr>\n",
       "    <tr>\n",
       "      <th>1</th>\n",
       "      <td>Ca</td>\n",
       "      <td>0</td>\n",
       "      <td>float64</td>\n",
       "    </tr>\n",
       "    <tr>\n",
       "      <th>2</th>\n",
       "      <td>Cl</td>\n",
       "      <td>0</td>\n",
       "      <td>int64</td>\n",
       "    </tr>\n",
       "    <tr>\n",
       "      <th>3</th>\n",
       "      <td>Classification</td>\n",
       "      <td>0</td>\n",
       "      <td>object</td>\n",
       "    </tr>\n",
       "    <tr>\n",
       "      <th>4</th>\n",
       "      <td>Classification.1</td>\n",
       "      <td>0</td>\n",
       "      <td>object</td>\n",
       "    </tr>\n",
       "    <tr>\n",
       "      <th>5</th>\n",
       "      <td>E.C</td>\n",
       "      <td>0</td>\n",
       "      <td>int64</td>\n",
       "    </tr>\n",
       "    <tr>\n",
       "      <th>6</th>\n",
       "      <td>F</td>\n",
       "      <td>0</td>\n",
       "      <td>float64</td>\n",
       "    </tr>\n",
       "    <tr>\n",
       "      <th>7</th>\n",
       "      <td>HCO3</td>\n",
       "      <td>0</td>\n",
       "      <td>float64</td>\n",
       "    </tr>\n",
       "    <tr>\n",
       "      <th>8</th>\n",
       "      <td>K</td>\n",
       "      <td>0</td>\n",
       "      <td>float64</td>\n",
       "    </tr>\n",
       "    <tr>\n",
       "      <th>9</th>\n",
       "      <td>Mg</td>\n",
       "      <td>0</td>\n",
       "      <td>float64</td>\n",
       "    </tr>\n",
       "    <tr>\n",
       "      <th>10</th>\n",
       "      <td>NO3</td>\n",
       "      <td>0</td>\n",
       "      <td>float64</td>\n",
       "    </tr>\n",
       "    <tr>\n",
       "      <th>11</th>\n",
       "      <td>Na</td>\n",
       "      <td>0</td>\n",
       "      <td>float64</td>\n",
       "    </tr>\n",
       "    <tr>\n",
       "      <th>12</th>\n",
       "      <td>RSC  meq  / L</td>\n",
       "      <td>0</td>\n",
       "      <td>float64</td>\n",
       "    </tr>\n",
       "    <tr>\n",
       "      <th>13</th>\n",
       "      <td>SAR</td>\n",
       "      <td>0</td>\n",
       "      <td>float64</td>\n",
       "    </tr>\n",
       "    <tr>\n",
       "      <th>14</th>\n",
       "      <td>SO4</td>\n",
       "      <td>0</td>\n",
       "      <td>float64</td>\n",
       "    </tr>\n",
       "    <tr>\n",
       "      <th>15</th>\n",
       "      <td>T.H</td>\n",
       "      <td>0</td>\n",
       "      <td>float64</td>\n",
       "    </tr>\n",
       "    <tr>\n",
       "      <th>16</th>\n",
       "      <td>TDS</td>\n",
       "      <td>0</td>\n",
       "      <td>float64</td>\n",
       "    </tr>\n",
       "    <tr>\n",
       "      <th>17</th>\n",
       "      <td>district</td>\n",
       "      <td>0</td>\n",
       "      <td>object</td>\n",
       "    </tr>\n",
       "    <tr>\n",
       "      <th>18</th>\n",
       "      <td>gwl</td>\n",
       "      <td>11</td>\n",
       "      <td>float64</td>\n",
       "    </tr>\n",
       "    <tr>\n",
       "      <th>19</th>\n",
       "      <td>lat_gis</td>\n",
       "      <td>0</td>\n",
       "      <td>float64</td>\n",
       "    </tr>\n",
       "    <tr>\n",
       "      <th>20</th>\n",
       "      <td>long_gis</td>\n",
       "      <td>0</td>\n",
       "      <td>float64</td>\n",
       "    </tr>\n",
       "    <tr>\n",
       "      <th>21</th>\n",
       "      <td>mandal</td>\n",
       "      <td>0</td>\n",
       "      <td>object</td>\n",
       "    </tr>\n",
       "    <tr>\n",
       "      <th>22</th>\n",
       "      <td>pH</td>\n",
       "      <td>0</td>\n",
       "      <td>object</td>\n",
       "    </tr>\n",
       "    <tr>\n",
       "      <th>23</th>\n",
       "      <td>season</td>\n",
       "      <td>0</td>\n",
       "      <td>object</td>\n",
       "    </tr>\n",
       "    <tr>\n",
       "      <th>24</th>\n",
       "      <td>sno</td>\n",
       "      <td>0</td>\n",
       "      <td>int64</td>\n",
       "    </tr>\n",
       "    <tr>\n",
       "      <th>25</th>\n",
       "      <td>village</td>\n",
       "      <td>0</td>\n",
       "      <td>object</td>\n",
       "    </tr>\n",
       "  </tbody>\n",
       "</table>\n",
       "</div>"
      ],
      "text/plain": [
       "               index  isna    Dtype\n",
       "0                CO3   160  float64\n",
       "1                 Ca     0  float64\n",
       "2                 Cl     0    int64\n",
       "3     Classification     0   object\n",
       "4   Classification.1     0   object\n",
       "5                E.C     0    int64\n",
       "6                  F     0  float64\n",
       "7               HCO3     0  float64\n",
       "8                  K     0  float64\n",
       "9                 Mg     0  float64\n",
       "10               NO3     0  float64\n",
       "11                Na     0  float64\n",
       "12     RSC  meq  / L     0  float64\n",
       "13               SAR     0  float64\n",
       "14               SO4     0  float64\n",
       "15               T.H     0  float64\n",
       "16               TDS     0  float64\n",
       "17          district     0   object\n",
       "18               gwl    11  float64\n",
       "19           lat_gis     0  float64\n",
       "20          long_gis     0  float64\n",
       "21            mandal     0   object\n",
       "22                pH     0   object\n",
       "23            season     0   object\n",
       "24               sno     0    int64\n",
       "25           village     0   object"
      ]
     },
     "execution_count": 16,
     "metadata": {},
     "output_type": "execute_result"
    }
   ],
   "source": [
    "#Liste les colonnes par ordre alphabétiques avec le nombre de valeurs manquantes et le type de données\n",
    "pd.concat([df.isna().sum(), df.dtypes], axis=1, keys=['isna', 'Dtype']).sort_index().reset_index()"
   ]
  },
  {
   "cell_type": "code",
   "execution_count": 18,
   "metadata": {},
   "outputs": [],
   "source": [
    "df.select_dtypes(include=['object']).columns.tolist()\n",
    "df = df.drop(['district','mandal','village','season','Classification.1'], axis=1)"
   ]
  },
  {
   "cell_type": "code",
   "execution_count": 20,
   "metadata": {},
   "outputs": [
    {
     "name": "stdout",
     "output_type": "stream",
     "text": [
      "8..05\n"
     ]
    }
   ],
   "source": [
    "#Parcours et affiche les variables qui ne peuvent être converties en float\n",
    "for value in df['pH'].unique():\n",
    "    try:\n",
    "        float(value)\n",
    "    except:\n",
    "        print(value)"
   ]
  },
  {
   "cell_type": "code",
   "execution_count": 22,
   "metadata": {},
   "outputs": [
    {
     "data": {
      "text/plain": [
       "dtype('float64')"
      ]
     },
     "execution_count": 22,
     "metadata": {},
     "output_type": "execute_result"
    }
   ],
   "source": [
    "df['pH'] = df['pH'].replace('8..05', '8.05')\n",
    "df['pH'] = df['pH'].astype(float)\n",
    "df['pH'].dtype\n"
   ]
  },
  {
   "cell_type": "code",
   "execution_count": 24,
   "metadata": {},
   "outputs": [],
   "source": [
    "df['CO3'].value_counts()\n",
    "df['CO3'].fillna(df['CO3'].mean(), inplace=True)\n",
    "df['gwl'].value_counts()\n",
    "df['gwl'].fillna(df['gwl'].mean(), inplace=True)"
   ]
  },
  {
   "cell_type": "code",
   "execution_count": 26,
   "metadata": {},
   "outputs": [
    {
     "ename": "TypeError",
     "evalue": "unsupported operand type(s) for -: 'str' and 'str'",
     "output_type": "error",
     "traceback": [
      "\u001b[1;31m---------------------------------------------------------------------------\u001b[0m",
      "\u001b[1;31mTypeError\u001b[0m                                 Traceback (most recent call last)",
      "Cell \u001b[1;32mIn[26], line 1\u001b[0m\n\u001b[1;32m----> 1\u001b[0m Q1 \u001b[38;5;241m=\u001b[39m df\u001b[38;5;241m.\u001b[39mquantile(\u001b[38;5;241m0.25\u001b[39m)\n\u001b[0;32m      2\u001b[0m Q3 \u001b[38;5;241m=\u001b[39m df\u001b[38;5;241m.\u001b[39mquantile(\u001b[38;5;241m0.75\u001b[39m)\n\u001b[0;32m      3\u001b[0m IQR \u001b[38;5;241m=\u001b[39m Q3 \u001b[38;5;241m-\u001b[39m Q1\n",
      "File \u001b[1;32m~\\anaconda3\\Lib\\site-packages\\pandas\\core\\frame.py:11786\u001b[0m, in \u001b[0;36mDataFrame.quantile\u001b[1;34m(self, q, axis, numeric_only, interpolation, method)\u001b[0m\n\u001b[0;32m  11779\u001b[0m axis \u001b[38;5;241m=\u001b[39m \u001b[38;5;28mself\u001b[39m\u001b[38;5;241m.\u001b[39m_get_axis_number(axis)\n\u001b[0;32m  11781\u001b[0m \u001b[38;5;28;01mif\u001b[39;00m \u001b[38;5;129;01mnot\u001b[39;00m is_list_like(q):\n\u001b[0;32m  11782\u001b[0m     \u001b[38;5;66;03m# BlockManager.quantile expects listlike, so we wrap and unwrap here\u001b[39;00m\n\u001b[0;32m  11783\u001b[0m     \u001b[38;5;66;03m# error: List item 0 has incompatible type \"Union[float, Union[Union[\u001b[39;00m\n\u001b[0;32m  11784\u001b[0m     \u001b[38;5;66;03m# ExtensionArray, ndarray[Any, Any]], Index, Series], Sequence[float]]\";\u001b[39;00m\n\u001b[0;32m  11785\u001b[0m     \u001b[38;5;66;03m# expected \"float\"\u001b[39;00m\n\u001b[1;32m> 11786\u001b[0m     res_df \u001b[38;5;241m=\u001b[39m \u001b[38;5;28mself\u001b[39m\u001b[38;5;241m.\u001b[39mquantile(  \u001b[38;5;66;03m# type: ignore[call-overload]\u001b[39;00m\n\u001b[0;32m  11787\u001b[0m         [q],\n\u001b[0;32m  11788\u001b[0m         axis\u001b[38;5;241m=\u001b[39maxis,\n\u001b[0;32m  11789\u001b[0m         numeric_only\u001b[38;5;241m=\u001b[39mnumeric_only,\n\u001b[0;32m  11790\u001b[0m         interpolation\u001b[38;5;241m=\u001b[39minterpolation,\n\u001b[0;32m  11791\u001b[0m         method\u001b[38;5;241m=\u001b[39mmethod,\n\u001b[0;32m  11792\u001b[0m     )\n\u001b[0;32m  11793\u001b[0m     \u001b[38;5;28;01mif\u001b[39;00m method \u001b[38;5;241m==\u001b[39m \u001b[38;5;124m\"\u001b[39m\u001b[38;5;124msingle\u001b[39m\u001b[38;5;124m\"\u001b[39m:\n\u001b[0;32m  11794\u001b[0m         res \u001b[38;5;241m=\u001b[39m res_df\u001b[38;5;241m.\u001b[39miloc[\u001b[38;5;241m0\u001b[39m]\n",
      "File \u001b[1;32m~\\anaconda3\\Lib\\site-packages\\pandas\\core\\frame.py:11831\u001b[0m, in \u001b[0;36mDataFrame.quantile\u001b[1;34m(self, q, axis, numeric_only, interpolation, method)\u001b[0m\n\u001b[0;32m  11827\u001b[0m     \u001b[38;5;28;01mraise\u001b[39;00m \u001b[38;5;167;01mValueError\u001b[39;00m(\n\u001b[0;32m  11828\u001b[0m         \u001b[38;5;124mf\u001b[39m\u001b[38;5;124m\"\u001b[39m\u001b[38;5;124mInvalid method: \u001b[39m\u001b[38;5;132;01m{\u001b[39;00mmethod\u001b[38;5;132;01m}\u001b[39;00m\u001b[38;5;124m. Method must be in \u001b[39m\u001b[38;5;132;01m{\u001b[39;00mvalid_method\u001b[38;5;132;01m}\u001b[39;00m\u001b[38;5;124m.\u001b[39m\u001b[38;5;124m\"\u001b[39m\n\u001b[0;32m  11829\u001b[0m     )\n\u001b[0;32m  11830\u001b[0m \u001b[38;5;28;01mif\u001b[39;00m method \u001b[38;5;241m==\u001b[39m \u001b[38;5;124m\"\u001b[39m\u001b[38;5;124msingle\u001b[39m\u001b[38;5;124m\"\u001b[39m:\n\u001b[1;32m> 11831\u001b[0m     res \u001b[38;5;241m=\u001b[39m data\u001b[38;5;241m.\u001b[39m_mgr\u001b[38;5;241m.\u001b[39mquantile(qs\u001b[38;5;241m=\u001b[39mq, interpolation\u001b[38;5;241m=\u001b[39minterpolation)\n\u001b[0;32m  11832\u001b[0m \u001b[38;5;28;01melif\u001b[39;00m method \u001b[38;5;241m==\u001b[39m \u001b[38;5;124m\"\u001b[39m\u001b[38;5;124mtable\u001b[39m\u001b[38;5;124m\"\u001b[39m:\n\u001b[0;32m  11833\u001b[0m     valid_interpolation \u001b[38;5;241m=\u001b[39m {\u001b[38;5;124m\"\u001b[39m\u001b[38;5;124mnearest\u001b[39m\u001b[38;5;124m\"\u001b[39m, \u001b[38;5;124m\"\u001b[39m\u001b[38;5;124mlower\u001b[39m\u001b[38;5;124m\"\u001b[39m, \u001b[38;5;124m\"\u001b[39m\u001b[38;5;124mhigher\u001b[39m\u001b[38;5;124m\"\u001b[39m}\n",
      "File \u001b[1;32m~\\anaconda3\\Lib\\site-packages\\pandas\\core\\internals\\managers.py:1507\u001b[0m, in \u001b[0;36mBlockManager.quantile\u001b[1;34m(self, qs, interpolation)\u001b[0m\n\u001b[0;32m   1504\u001b[0m new_axes \u001b[38;5;241m=\u001b[39m \u001b[38;5;28mlist\u001b[39m(\u001b[38;5;28mself\u001b[39m\u001b[38;5;241m.\u001b[39maxes)\n\u001b[0;32m   1505\u001b[0m new_axes[\u001b[38;5;241m1\u001b[39m] \u001b[38;5;241m=\u001b[39m Index(qs, dtype\u001b[38;5;241m=\u001b[39mnp\u001b[38;5;241m.\u001b[39mfloat64)\n\u001b[1;32m-> 1507\u001b[0m blocks \u001b[38;5;241m=\u001b[39m [\n\u001b[0;32m   1508\u001b[0m     blk\u001b[38;5;241m.\u001b[39mquantile(qs\u001b[38;5;241m=\u001b[39mqs, interpolation\u001b[38;5;241m=\u001b[39minterpolation) \u001b[38;5;28;01mfor\u001b[39;00m blk \u001b[38;5;129;01min\u001b[39;00m \u001b[38;5;28mself\u001b[39m\u001b[38;5;241m.\u001b[39mblocks\n\u001b[0;32m   1509\u001b[0m ]\n\u001b[0;32m   1511\u001b[0m \u001b[38;5;28;01mreturn\u001b[39;00m \u001b[38;5;28mtype\u001b[39m(\u001b[38;5;28mself\u001b[39m)(blocks, new_axes)\n",
      "File \u001b[1;32m~\\anaconda3\\Lib\\site-packages\\pandas\\core\\internals\\managers.py:1508\u001b[0m, in \u001b[0;36m<listcomp>\u001b[1;34m(.0)\u001b[0m\n\u001b[0;32m   1504\u001b[0m new_axes \u001b[38;5;241m=\u001b[39m \u001b[38;5;28mlist\u001b[39m(\u001b[38;5;28mself\u001b[39m\u001b[38;5;241m.\u001b[39maxes)\n\u001b[0;32m   1505\u001b[0m new_axes[\u001b[38;5;241m1\u001b[39m] \u001b[38;5;241m=\u001b[39m Index(qs, dtype\u001b[38;5;241m=\u001b[39mnp\u001b[38;5;241m.\u001b[39mfloat64)\n\u001b[0;32m   1507\u001b[0m blocks \u001b[38;5;241m=\u001b[39m [\n\u001b[1;32m-> 1508\u001b[0m     blk\u001b[38;5;241m.\u001b[39mquantile(qs\u001b[38;5;241m=\u001b[39mqs, interpolation\u001b[38;5;241m=\u001b[39minterpolation) \u001b[38;5;28;01mfor\u001b[39;00m blk \u001b[38;5;129;01min\u001b[39;00m \u001b[38;5;28mself\u001b[39m\u001b[38;5;241m.\u001b[39mblocks\n\u001b[0;32m   1509\u001b[0m ]\n\u001b[0;32m   1511\u001b[0m \u001b[38;5;28;01mreturn\u001b[39;00m \u001b[38;5;28mtype\u001b[39m(\u001b[38;5;28mself\u001b[39m)(blocks, new_axes)\n",
      "File \u001b[1;32m~\\anaconda3\\Lib\\site-packages\\pandas\\core\\internals\\blocks.py:1587\u001b[0m, in \u001b[0;36mBlock.quantile\u001b[1;34m(self, qs, interpolation)\u001b[0m\n\u001b[0;32m   1584\u001b[0m \u001b[38;5;28;01massert\u001b[39;00m \u001b[38;5;28mself\u001b[39m\u001b[38;5;241m.\u001b[39mndim \u001b[38;5;241m==\u001b[39m \u001b[38;5;241m2\u001b[39m\n\u001b[0;32m   1585\u001b[0m \u001b[38;5;28;01massert\u001b[39;00m is_list_like(qs)  \u001b[38;5;66;03m# caller is responsible for this\u001b[39;00m\n\u001b[1;32m-> 1587\u001b[0m result \u001b[38;5;241m=\u001b[39m quantile_compat(\u001b[38;5;28mself\u001b[39m\u001b[38;5;241m.\u001b[39mvalues, np\u001b[38;5;241m.\u001b[39masarray(qs\u001b[38;5;241m.\u001b[39m_values), interpolation)\n\u001b[0;32m   1588\u001b[0m \u001b[38;5;66;03m# ensure_block_shape needed for cases where we start with EA and result\u001b[39;00m\n\u001b[0;32m   1589\u001b[0m \u001b[38;5;66;03m#  is ndarray, e.g. IntegerArray, SparseArray\u001b[39;00m\n\u001b[0;32m   1590\u001b[0m result \u001b[38;5;241m=\u001b[39m ensure_block_shape(result, ndim\u001b[38;5;241m=\u001b[39m\u001b[38;5;241m2\u001b[39m)\n",
      "File \u001b[1;32m~\\anaconda3\\Lib\\site-packages\\pandas\\core\\array_algos\\quantile.py:39\u001b[0m, in \u001b[0;36mquantile_compat\u001b[1;34m(values, qs, interpolation)\u001b[0m\n\u001b[0;32m     37\u001b[0m     fill_value \u001b[38;5;241m=\u001b[39m na_value_for_dtype(values\u001b[38;5;241m.\u001b[39mdtype, compat\u001b[38;5;241m=\u001b[39m\u001b[38;5;28;01mFalse\u001b[39;00m)\n\u001b[0;32m     38\u001b[0m     mask \u001b[38;5;241m=\u001b[39m isna(values)\n\u001b[1;32m---> 39\u001b[0m     \u001b[38;5;28;01mreturn\u001b[39;00m quantile_with_mask(values, mask, fill_value, qs, interpolation)\n\u001b[0;32m     40\u001b[0m \u001b[38;5;28;01melse\u001b[39;00m:\n\u001b[0;32m     41\u001b[0m     \u001b[38;5;28;01mreturn\u001b[39;00m values\u001b[38;5;241m.\u001b[39m_quantile(qs, interpolation)\n",
      "File \u001b[1;32m~\\anaconda3\\Lib\\site-packages\\pandas\\core\\array_algos\\quantile.py:97\u001b[0m, in \u001b[0;36mquantile_with_mask\u001b[1;34m(values, mask, fill_value, qs, interpolation)\u001b[0m\n\u001b[0;32m     95\u001b[0m     result \u001b[38;5;241m=\u001b[39m np\u001b[38;5;241m.\u001b[39mrepeat(flat, \u001b[38;5;28mlen\u001b[39m(values))\u001b[38;5;241m.\u001b[39mreshape(\u001b[38;5;28mlen\u001b[39m(values), \u001b[38;5;28mlen\u001b[39m(qs))\n\u001b[0;32m     96\u001b[0m \u001b[38;5;28;01melse\u001b[39;00m:\n\u001b[1;32m---> 97\u001b[0m     result \u001b[38;5;241m=\u001b[39m _nanpercentile(\n\u001b[0;32m     98\u001b[0m         values,\n\u001b[0;32m     99\u001b[0m         qs \u001b[38;5;241m*\u001b[39m \u001b[38;5;241m100.0\u001b[39m,\n\u001b[0;32m    100\u001b[0m         na_value\u001b[38;5;241m=\u001b[39mfill_value,\n\u001b[0;32m    101\u001b[0m         mask\u001b[38;5;241m=\u001b[39mmask,\n\u001b[0;32m    102\u001b[0m         interpolation\u001b[38;5;241m=\u001b[39minterpolation,\n\u001b[0;32m    103\u001b[0m     )\n\u001b[0;32m    105\u001b[0m     result \u001b[38;5;241m=\u001b[39m np\u001b[38;5;241m.\u001b[39marray(result, copy\u001b[38;5;241m=\u001b[39m\u001b[38;5;28;01mFalse\u001b[39;00m)\n\u001b[0;32m    106\u001b[0m     result \u001b[38;5;241m=\u001b[39m result\u001b[38;5;241m.\u001b[39mT\n",
      "File \u001b[1;32m~\\anaconda3\\Lib\\site-packages\\pandas\\core\\array_algos\\quantile.py:218\u001b[0m, in \u001b[0;36m_nanpercentile\u001b[1;34m(values, qs, na_value, mask, interpolation)\u001b[0m\n\u001b[0;32m    216\u001b[0m     \u001b[38;5;28;01mreturn\u001b[39;00m result\n\u001b[0;32m    217\u001b[0m \u001b[38;5;28;01melse\u001b[39;00m:\n\u001b[1;32m--> 218\u001b[0m     \u001b[38;5;28;01mreturn\u001b[39;00m np\u001b[38;5;241m.\u001b[39mpercentile(\n\u001b[0;32m    219\u001b[0m         values,\n\u001b[0;32m    220\u001b[0m         qs,\n\u001b[0;32m    221\u001b[0m         axis\u001b[38;5;241m=\u001b[39m\u001b[38;5;241m1\u001b[39m,\n\u001b[0;32m    222\u001b[0m         \u001b[38;5;66;03m# error: No overload variant of \"percentile\" matches argument types\u001b[39;00m\n\u001b[0;32m    223\u001b[0m         \u001b[38;5;66;03m# \"ndarray[Any, Any]\", \"ndarray[Any, dtype[floating[_64Bit]]]\",\u001b[39;00m\n\u001b[0;32m    224\u001b[0m         \u001b[38;5;66;03m# \"int\", \"Dict[str, str]\"  [call-overload]\u001b[39;00m\n\u001b[0;32m    225\u001b[0m         method\u001b[38;5;241m=\u001b[39minterpolation,  \u001b[38;5;66;03m# type: ignore[call-overload]\u001b[39;00m\n\u001b[0;32m    226\u001b[0m     )\n",
      "File \u001b[1;32m~\\anaconda3\\Lib\\site-packages\\numpy\\lib\\function_base.py:4283\u001b[0m, in \u001b[0;36mpercentile\u001b[1;34m(a, q, axis, out, overwrite_input, method, keepdims, interpolation)\u001b[0m\n\u001b[0;32m   4281\u001b[0m \u001b[38;5;28;01mif\u001b[39;00m \u001b[38;5;129;01mnot\u001b[39;00m _quantile_is_valid(q):\n\u001b[0;32m   4282\u001b[0m     \u001b[38;5;28;01mraise\u001b[39;00m \u001b[38;5;167;01mValueError\u001b[39;00m(\u001b[38;5;124m\"\u001b[39m\u001b[38;5;124mPercentiles must be in the range [0, 100]\u001b[39m\u001b[38;5;124m\"\u001b[39m)\n\u001b[1;32m-> 4283\u001b[0m \u001b[38;5;28;01mreturn\u001b[39;00m _quantile_unchecked(\n\u001b[0;32m   4284\u001b[0m     a, q, axis, out, overwrite_input, method, keepdims)\n",
      "File \u001b[1;32m~\\anaconda3\\Lib\\site-packages\\numpy\\lib\\function_base.py:4555\u001b[0m, in \u001b[0;36m_quantile_unchecked\u001b[1;34m(a, q, axis, out, overwrite_input, method, keepdims)\u001b[0m\n\u001b[0;32m   4547\u001b[0m \u001b[38;5;28;01mdef\u001b[39;00m \u001b[38;5;21m_quantile_unchecked\u001b[39m(a,\n\u001b[0;32m   4548\u001b[0m                         q,\n\u001b[0;32m   4549\u001b[0m                         axis\u001b[38;5;241m=\u001b[39m\u001b[38;5;28;01mNone\u001b[39;00m,\n\u001b[1;32m   (...)\u001b[0m\n\u001b[0;32m   4552\u001b[0m                         method\u001b[38;5;241m=\u001b[39m\u001b[38;5;124m\"\u001b[39m\u001b[38;5;124mlinear\u001b[39m\u001b[38;5;124m\"\u001b[39m,\n\u001b[0;32m   4553\u001b[0m                         keepdims\u001b[38;5;241m=\u001b[39m\u001b[38;5;28;01mFalse\u001b[39;00m):\n\u001b[0;32m   4554\u001b[0m \u001b[38;5;250m    \u001b[39m\u001b[38;5;124;03m\"\"\"Assumes that q is in [0, 1], and is an ndarray\"\"\"\u001b[39;00m\n\u001b[1;32m-> 4555\u001b[0m     \u001b[38;5;28;01mreturn\u001b[39;00m _ureduce(a,\n\u001b[0;32m   4556\u001b[0m                     func\u001b[38;5;241m=\u001b[39m_quantile_ureduce_func,\n\u001b[0;32m   4557\u001b[0m                     q\u001b[38;5;241m=\u001b[39mq,\n\u001b[0;32m   4558\u001b[0m                     keepdims\u001b[38;5;241m=\u001b[39mkeepdims,\n\u001b[0;32m   4559\u001b[0m                     axis\u001b[38;5;241m=\u001b[39maxis,\n\u001b[0;32m   4560\u001b[0m                     out\u001b[38;5;241m=\u001b[39mout,\n\u001b[0;32m   4561\u001b[0m                     overwrite_input\u001b[38;5;241m=\u001b[39moverwrite_input,\n\u001b[0;32m   4562\u001b[0m                     method\u001b[38;5;241m=\u001b[39mmethod)\n",
      "File \u001b[1;32m~\\anaconda3\\Lib\\site-packages\\numpy\\lib\\function_base.py:3823\u001b[0m, in \u001b[0;36m_ureduce\u001b[1;34m(a, func, keepdims, **kwargs)\u001b[0m\n\u001b[0;32m   3820\u001b[0m             index_out \u001b[38;5;241m=\u001b[39m (\u001b[38;5;241m0\u001b[39m, ) \u001b[38;5;241m*\u001b[39m nd\n\u001b[0;32m   3821\u001b[0m             kwargs[\u001b[38;5;124m'\u001b[39m\u001b[38;5;124mout\u001b[39m\u001b[38;5;124m'\u001b[39m] \u001b[38;5;241m=\u001b[39m out[(\u001b[38;5;28mEllipsis\u001b[39m, ) \u001b[38;5;241m+\u001b[39m index_out]\n\u001b[1;32m-> 3823\u001b[0m r \u001b[38;5;241m=\u001b[39m func(a, \u001b[38;5;241m*\u001b[39m\u001b[38;5;241m*\u001b[39mkwargs)\n\u001b[0;32m   3825\u001b[0m \u001b[38;5;28;01mif\u001b[39;00m out \u001b[38;5;129;01mis\u001b[39;00m \u001b[38;5;129;01mnot\u001b[39;00m \u001b[38;5;28;01mNone\u001b[39;00m:\n\u001b[0;32m   3826\u001b[0m     \u001b[38;5;28;01mreturn\u001b[39;00m out\n",
      "File \u001b[1;32m~\\anaconda3\\Lib\\site-packages\\numpy\\lib\\function_base.py:4722\u001b[0m, in \u001b[0;36m_quantile_ureduce_func\u001b[1;34m(a, q, axis, out, overwrite_input, method)\u001b[0m\n\u001b[0;32m   4720\u001b[0m     \u001b[38;5;28;01melse\u001b[39;00m:\n\u001b[0;32m   4721\u001b[0m         arr \u001b[38;5;241m=\u001b[39m a\u001b[38;5;241m.\u001b[39mcopy()\n\u001b[1;32m-> 4722\u001b[0m result \u001b[38;5;241m=\u001b[39m _quantile(arr,\n\u001b[0;32m   4723\u001b[0m                    quantiles\u001b[38;5;241m=\u001b[39mq,\n\u001b[0;32m   4724\u001b[0m                    axis\u001b[38;5;241m=\u001b[39maxis,\n\u001b[0;32m   4725\u001b[0m                    method\u001b[38;5;241m=\u001b[39mmethod,\n\u001b[0;32m   4726\u001b[0m                    out\u001b[38;5;241m=\u001b[39mout)\n\u001b[0;32m   4727\u001b[0m \u001b[38;5;28;01mreturn\u001b[39;00m result\n",
      "File \u001b[1;32m~\\anaconda3\\Lib\\site-packages\\numpy\\lib\\function_base.py:4841\u001b[0m, in \u001b[0;36m_quantile\u001b[1;34m(arr, quantiles, axis, method, out)\u001b[0m\n\u001b[0;32m   4839\u001b[0m     result_shape \u001b[38;5;241m=\u001b[39m virtual_indexes\u001b[38;5;241m.\u001b[39mshape \u001b[38;5;241m+\u001b[39m (\u001b[38;5;241m1\u001b[39m,) \u001b[38;5;241m*\u001b[39m (arr\u001b[38;5;241m.\u001b[39mndim \u001b[38;5;241m-\u001b[39m \u001b[38;5;241m1\u001b[39m)\n\u001b[0;32m   4840\u001b[0m     gamma \u001b[38;5;241m=\u001b[39m gamma\u001b[38;5;241m.\u001b[39mreshape(result_shape)\n\u001b[1;32m-> 4841\u001b[0m     result \u001b[38;5;241m=\u001b[39m _lerp(previous,\n\u001b[0;32m   4842\u001b[0m                    \u001b[38;5;28mnext\u001b[39m,\n\u001b[0;32m   4843\u001b[0m                    gamma,\n\u001b[0;32m   4844\u001b[0m                    out\u001b[38;5;241m=\u001b[39mout)\n\u001b[0;32m   4845\u001b[0m \u001b[38;5;28;01mif\u001b[39;00m np\u001b[38;5;241m.\u001b[39many(slices_having_nans):\n\u001b[0;32m   4846\u001b[0m     \u001b[38;5;28;01mif\u001b[39;00m result\u001b[38;5;241m.\u001b[39mndim \u001b[38;5;241m==\u001b[39m \u001b[38;5;241m0\u001b[39m \u001b[38;5;129;01mand\u001b[39;00m out \u001b[38;5;129;01mis\u001b[39;00m \u001b[38;5;28;01mNone\u001b[39;00m:\n\u001b[0;32m   4847\u001b[0m         \u001b[38;5;66;03m# can't write to a scalar, but indexing will be correct\u001b[39;00m\n",
      "File \u001b[1;32m~\\anaconda3\\Lib\\site-packages\\numpy\\lib\\function_base.py:4655\u001b[0m, in \u001b[0;36m_lerp\u001b[1;34m(a, b, t, out)\u001b[0m\n\u001b[0;32m   4641\u001b[0m \u001b[38;5;28;01mdef\u001b[39;00m \u001b[38;5;21m_lerp\u001b[39m(a, b, t, out\u001b[38;5;241m=\u001b[39m\u001b[38;5;28;01mNone\u001b[39;00m):\n\u001b[0;32m   4642\u001b[0m \u001b[38;5;250m    \u001b[39m\u001b[38;5;124;03m\"\"\"\u001b[39;00m\n\u001b[0;32m   4643\u001b[0m \u001b[38;5;124;03m    Compute the linear interpolation weighted by gamma on each point of\u001b[39;00m\n\u001b[0;32m   4644\u001b[0m \u001b[38;5;124;03m    two same shape array.\u001b[39;00m\n\u001b[1;32m   (...)\u001b[0m\n\u001b[0;32m   4653\u001b[0m \u001b[38;5;124;03m        Output array.\u001b[39;00m\n\u001b[0;32m   4654\u001b[0m \u001b[38;5;124;03m    \"\"\"\u001b[39;00m\n\u001b[1;32m-> 4655\u001b[0m     diff_b_a \u001b[38;5;241m=\u001b[39m subtract(b, a)\n\u001b[0;32m   4656\u001b[0m     \u001b[38;5;66;03m# asanyarray is a stop-gap until gh-13105\u001b[39;00m\n\u001b[0;32m   4657\u001b[0m     lerp_interpolation \u001b[38;5;241m=\u001b[39m asanyarray(add(a, diff_b_a \u001b[38;5;241m*\u001b[39m t, out\u001b[38;5;241m=\u001b[39mout))\n",
      "\u001b[1;31mTypeError\u001b[0m: unsupported operand type(s) for -: 'str' and 'str'"
     ]
    }
   ],
   "source": [
    "Q1 = df.quantile(0.25)\n",
    "Q3 = df.quantile(0.75)\n",
    "IQR = Q3 - Q1\n",
    "threshold = 1.5\n",
    "outliers = df[(df < (Q1 - threshold*IQR)) | (df > (Q3 + threshold*IQR))].stack().index.tolist()"
   ]
  },
  {
   "cell_type": "markdown",
   "metadata": {},
   "source": [
    "### Imputation valeurs manquantes pour 'CO3' et 'gwl'"
   ]
  },
  {
   "cell_type": "code",
   "execution_count": 28,
   "metadata": {
    "tags": []
   },
   "outputs": [
    {
     "name": "stdout",
     "output_type": "stream",
     "text": [
      "Score avec imputation par la moyenne : 0.9997993327746113\n",
      "Score avec imputation itérative : 0.9997993327746113\n"
     ]
    }
   ],
   "source": [
    "import pandas as pd\n",
    "from sklearn.impute import SimpleImputer\n",
    "from sklearn.experimental import enable_iterative_imputer\n",
    "from sklearn.impute import IterativeImputer\n",
    "from sklearn.model_selection import train_test_split\n",
    "from sklearn.ensemble import RandomForestRegressor\n",
    "\n",
    "\n",
    "# Sélectionner toutes les colonnes sauf \"Classification\"\n",
    "columns_to_impute = df.columns.difference([\"Classification\"])\n",
    "\n",
    "# Supprimer les lignes avec des valeurs manquantes pour avoir un jeu de données de référence\n",
    "df_cleaned = df.dropna(subset=columns_to_impute)\n",
    "\n",
    "# Diviser les données en variables caractéristiques (X) et cible (y)\n",
    "X = df_cleaned[columns_to_impute]\n",
    "y = df_cleaned[\"gwl\"]\n",
    "\n",
    "# Diviser les données en ensembles d'entraînement et de test\n",
    "X_train, X_test, y_train, y_test = train_test_split(X, y, test_size=0.2, random_state=42)\n",
    "\n",
    "# Imputation par la moyenne\n",
    "imputer_mean = SimpleImputer(strategy=\"mean\")\n",
    "X_train_imputed_mean = imputer_mean.fit_transform(X_train)\n",
    "X_test_imputed_mean = imputer_mean.transform(X_test)\n",
    "\n",
    "# Imputation multiple avec IterativeImputer et modèle RandomForestRegressor\n",
    "imputer_iterative = IterativeImputer(estimator=RandomForestRegressor(), random_state=42)\n",
    "X_train_imputed_iterative = imputer_iterative.fit_transform(X_train)\n",
    "X_test_imputed_iterative = imputer_iterative.transform(X_test)\n",
    "\n",
    "# Entraîner un modèle de prédiction sur les données imputées par la moyenne\n",
    "model_mean = RandomForestRegressor(random_state=42)\n",
    "model_mean.fit(X_train_imputed_mean, y_train)\n",
    "score_mean = model_mean.score(X_test_imputed_mean, y_test)\n",
    "print(f\"Score avec imputation par la moyenne : {score_mean}\")\n",
    "\n",
    "# Entraîner un modèle de prédiction sur les données imputées de manière itérative\n",
    "model_iterative = RandomForestRegressor(random_state=42)\n",
    "model_iterative.fit(X_train_imputed_iterative, y_train)\n",
    "score_iterative = model_iterative.score(X_test_imputed_iterative, y_test)\n",
    "print(f\"Score avec imputation itérative : {score_iterative}\")"
   ]
  },
  {
   "cell_type": "code",
   "execution_count": 30,
   "metadata": {},
   "outputs": [
    {
     "data": {
      "text/plain": [
       "Classification\n",
       "Poor        714\n",
       "Moderate    249\n",
       "Bad         136\n",
       "Good          3\n",
       "Name: count, dtype: int64"
      ]
     },
     "execution_count": 30,
     "metadata": {},
     "output_type": "execute_result"
    }
   ],
   "source": [
    "# Créer un dictionnaire de mappage pour renommer les valeurs\n",
    "selection = {\n",
    "    'C2S1': 'Moderate',\n",
    "    'C3S1': 'Poor',\n",
    "    'C4S2': 'Bad',\n",
    "    'C4S1': 'Bad',\n",
    "    'C3S2': 'Poor',\n",
    "    'C4S4': 'Bad',\n",
    "    'C4S3': 'Bad',\n",
    "    'C1S1': 'Good',\n",
    "    'C3S4': 'Bad',\n",
    "    'C3S3': 'Poor',\n",
    "    'C2S2': 'Moderate'\n",
    "}\n",
    "\n",
    "# Remplacer les valeurs dans la colonne 'Classification'\n",
    "df['Classification'] = df['Classification'].replace(selection)\n",
    "\n",
    "# Supprimer les lignes contenant d'autres valeurs dans la colonne 'Classification'\n",
    "df = df[df['Classification'].isin(selection.values())]\n",
    "\n",
    "df['Classification'].value_counts()"
   ]
  },
  {
   "cell_type": "code",
   "execution_count": 32,
   "metadata": {},
   "outputs": [
    {
     "name": "stderr",
     "output_type": "stream",
     "text": [
      "C:\\Users\\varsh\\AppData\\Local\\Temp\\ipykernel_20876\\1978061613.py:7: SettingWithCopyWarning: \n",
      "A value is trying to be set on a copy of a slice from a DataFrame.\n",
      "Try using .loc[row_indexer,col_indexer] = value instead\n",
      "\n",
      "See the caveats in the documentation: https://pandas.pydata.org/pandas-docs/stable/user_guide/indexing.html#returning-a-view-versus-a-copy\n",
      "  df['Classification_encoded'] = le.fit_transform(df['Classification'])\n"
     ]
    },
    {
     "data": {
      "text/plain": [
       "Cl               0.516491\n",
       "TDS              0.515528\n",
       "E.C              0.515528\n",
       "Na               0.449197\n",
       "T.H              0.393487\n",
       "NO3              0.388473\n",
       "Mg               0.352239\n",
       "RSC  meq  / L    0.330860\n",
       "Ca               0.295902\n",
       "SAR              0.279272\n",
       "Name: Classification_encoded, dtype: float64"
      ]
     },
     "execution_count": 32,
     "metadata": {},
     "output_type": "execute_result"
    }
   ],
   "source": [
    "from sklearn.preprocessing import LabelEncoder\n",
    "\n",
    "# Créer une instance de LabelEncoder\n",
    "le= LabelEncoder()\n",
    "\n",
    "# Appliquer le label encoding à la colonne 'Classification'\n",
    "df['Classification_encoded'] = le.fit_transform(df['Classification'])\n",
    "\n",
    "# Calculer la matrice de corrélation avec la nouvelle colonne encodée\n",
    "correlation_matrix = df.corr(numeric_only=True)\n",
    "\n",
    "# Obtenir les corrélations par rapport à la colonne encodée\n",
    "correlation_with_encoded_classification = correlation_matrix['Classification_encoded']\n",
    "\n",
    "# Trier les corrélations par ordre décroissant et obtenir les 10 plus grandes corrélations (en excluant la corrélation avec elle-même)\n",
    "correlation_with_encoded_classification.abs().sort_values(ascending=False)[1:11]"
   ]
  },
  {
   "cell_type": "code",
   "execution_count": 34,
   "metadata": {},
   "outputs": [
    {
     "data": {
      "text/html": [
       "<div>\n",
       "<style scoped>\n",
       "    .dataframe tbody tr th:only-of-type {\n",
       "        vertical-align: middle;\n",
       "    }\n",
       "\n",
       "    .dataframe tbody tr th {\n",
       "        vertical-align: top;\n",
       "    }\n",
       "\n",
       "    .dataframe thead th {\n",
       "        text-align: right;\n",
       "    }\n",
       "</style>\n",
       "<table border=\"1\" class=\"dataframe\">\n",
       "  <thead>\n",
       "    <tr style=\"text-align: right;\">\n",
       "      <th></th>\n",
       "      <th>TDS</th>\n",
       "      <th>E.C</th>\n",
       "      <th>Na</th>\n",
       "      <th>Cl</th>\n",
       "      <th>T.H</th>\n",
       "      <th>HCO3</th>\n",
       "      <th>Mg</th>\n",
       "      <th>SAR</th>\n",
       "      <th>NO3</th>\n",
       "      <th>Ca</th>\n",
       "    </tr>\n",
       "  </thead>\n",
       "  <tbody>\n",
       "    <tr>\n",
       "      <th>count</th>\n",
       "      <td>1102.000000</td>\n",
       "      <td>1102.000000</td>\n",
       "      <td>1102.000000</td>\n",
       "      <td>1102.000000</td>\n",
       "      <td>1102.000000</td>\n",
       "      <td>1102.000000</td>\n",
       "      <td>1102.000000</td>\n",
       "      <td>1102.000000</td>\n",
       "      <td>1102.000000</td>\n",
       "      <td>1102.000000</td>\n",
       "    </tr>\n",
       "    <tr>\n",
       "      <th>mean</th>\n",
       "      <td>861.921452</td>\n",
       "      <td>1346.752269</td>\n",
       "      <td>120.921765</td>\n",
       "      <td>190.453721</td>\n",
       "      <td>417.851983</td>\n",
       "      <td>299.102710</td>\n",
       "      <td>50.764973</td>\n",
       "      <td>2.722132</td>\n",
       "      <td>74.818648</td>\n",
       "      <td>83.696189</td>\n",
       "    </tr>\n",
       "    <tr>\n",
       "      <th>std</th>\n",
       "      <td>526.819814</td>\n",
       "      <td>823.155959</td>\n",
       "      <td>103.307066</td>\n",
       "      <td>190.242861</td>\n",
       "      <td>262.720824</td>\n",
       "      <td>131.326806</td>\n",
       "      <td>38.469299</td>\n",
       "      <td>2.699370</td>\n",
       "      <td>97.160428</td>\n",
       "      <td>64.470921</td>\n",
       "    </tr>\n",
       "    <tr>\n",
       "      <th>min</th>\n",
       "      <td>131.200000</td>\n",
       "      <td>205.000000</td>\n",
       "      <td>5.076154</td>\n",
       "      <td>10.000000</td>\n",
       "      <td>39.991776</td>\n",
       "      <td>30.000000</td>\n",
       "      <td>4.862000</td>\n",
       "      <td>0.181178</td>\n",
       "      <td>0.097438</td>\n",
       "      <td>1.200000</td>\n",
       "    </tr>\n",
       "    <tr>\n",
       "      <th>25%</th>\n",
       "      <td>500.000000</td>\n",
       "      <td>781.250000</td>\n",
       "      <td>55.645000</td>\n",
       "      <td>60.000000</td>\n",
       "      <td>239.967105</td>\n",
       "      <td>200.000000</td>\n",
       "      <td>24.310000</td>\n",
       "      <td>1.351652</td>\n",
       "      <td>17.727073</td>\n",
       "      <td>40.000000</td>\n",
       "    </tr>\n",
       "    <tr>\n",
       "      <th>50%</th>\n",
       "      <td>751.040000</td>\n",
       "      <td>1173.500000</td>\n",
       "      <td>93.000000</td>\n",
       "      <td>130.000000</td>\n",
       "      <td>359.925987</td>\n",
       "      <td>290.000000</td>\n",
       "      <td>38.896000</td>\n",
       "      <td>2.061658</td>\n",
       "      <td>41.652732</td>\n",
       "      <td>64.000000</td>\n",
       "    </tr>\n",
       "    <tr>\n",
       "      <th>75%</th>\n",
       "      <td>1066.720000</td>\n",
       "      <td>1666.750000</td>\n",
       "      <td>151.600000</td>\n",
       "      <td>260.000000</td>\n",
       "      <td>519.897204</td>\n",
       "      <td>378.866746</td>\n",
       "      <td>68.068000</td>\n",
       "      <td>3.163959</td>\n",
       "      <td>95.888857</td>\n",
       "      <td>104.000000</td>\n",
       "    </tr>\n",
       "    <tr>\n",
       "      <th>max</th>\n",
       "      <td>6079.360000</td>\n",
       "      <td>9499.000000</td>\n",
       "      <td>748.100000</td>\n",
       "      <td>2480.000000</td>\n",
       "      <td>3479.226974</td>\n",
       "      <td>1070.000000</td>\n",
       "      <td>457.028000</td>\n",
       "      <td>31.435063</td>\n",
       "      <td>1028.000000</td>\n",
       "      <td>640.000000</td>\n",
       "    </tr>\n",
       "  </tbody>\n",
       "</table>\n",
       "</div>"
      ],
      "text/plain": [
       "               TDS          E.C           Na           Cl          T.H  \\\n",
       "count  1102.000000  1102.000000  1102.000000  1102.000000  1102.000000   \n",
       "mean    861.921452  1346.752269   120.921765   190.453721   417.851983   \n",
       "std     526.819814   823.155959   103.307066   190.242861   262.720824   \n",
       "min     131.200000   205.000000     5.076154    10.000000    39.991776   \n",
       "25%     500.000000   781.250000    55.645000    60.000000   239.967105   \n",
       "50%     751.040000  1173.500000    93.000000   130.000000   359.925987   \n",
       "75%    1066.720000  1666.750000   151.600000   260.000000   519.897204   \n",
       "max    6079.360000  9499.000000   748.100000  2480.000000  3479.226974   \n",
       "\n",
       "              HCO3           Mg          SAR          NO3           Ca  \n",
       "count  1102.000000  1102.000000  1102.000000  1102.000000  1102.000000  \n",
       "mean    299.102710    50.764973     2.722132    74.818648    83.696189  \n",
       "std     131.326806    38.469299     2.699370    97.160428    64.470921  \n",
       "min      30.000000     4.862000     0.181178     0.097438     1.200000  \n",
       "25%     200.000000    24.310000     1.351652    17.727073    40.000000  \n",
       "50%     290.000000    38.896000     2.061658    41.652732    64.000000  \n",
       "75%     378.866746    68.068000     3.163959    95.888857   104.000000  \n",
       "max    1070.000000   457.028000    31.435063  1028.000000   640.000000  "
      ]
     },
     "execution_count": 34,
     "metadata": {},
     "output_type": "execute_result"
    }
   ],
   "source": [
    "corre_df = df[['TDS', 'E.C', 'Na', 'Cl', 'T.H', 'HCO3', 'Mg', 'SAR', 'NO3', 'Ca']]\n",
    "corre_df.describe()"
   ]
  },
  {
   "cell_type": "code",
   "execution_count": 36,
   "metadata": {},
   "outputs": [
    {
     "data": {
      "image/png": "[encoded data removed]",
      "text/plain": [
       "<Figure size 1000x800 with 2 Axes>"
      ]
     },
     "metadata": {},
     "output_type": "display_data"
    }
   ],
   "source": [
    "import pandas as pd\n",
    "import seaborn as sns\n",
    "import matplotlib.pyplot as plt\n",
    "\n",
    "# Calculer la matrice de corrélation pour le nouveau DataFrame\n",
    "correlation_matrix_waterqual = corre_df.corr()\n",
    "\n",
    "# Créer une heatmap de la matrice de corrélation pour les colonnes sélectionnées\n",
    "plt.figure(figsize=(10, 8))\n",
    "sns.heatmap(correlation_matrix_waterqual, annot=True, center=0, cmap='RdBu_r')\n",
    "plt.title(\"Matrice de Corrélation pour les Colonnes Sélectionnées\")\n",
    "plt.show()"
   ]
  },
  {
   "cell_type": "code",
   "execution_count": 38,
   "metadata": {},
   "outputs": [],
   "source": [
    "df =df[['TDS', 'E.C', 'Na', 'Cl', 'T.H', 'HCO3', 'Mg', 'SAR', 'NO3', 'Ca', 'Classification']]"
   ]
  },
  {
   "cell_type": "code",
   "execution_count": 40,
   "metadata": {},
   "outputs": [
    {
     "name": "stdout",
     "output_type": "stream",
     "text": [
      "Cross-validation scores: [0.98642534 0.99547511 0.99090909 0.99545455 0.99545455]\n",
      "Mean CV score: 0.992743726861374\n",
      "Classification Report:\n",
      "               precision    recall  f1-score   support\n",
      "\n",
      "         Bad       1.00      1.00      1.00       136\n",
      "        Good       1.00      1.00      1.00         3\n",
      "    Moderate       1.00      1.00      1.00       249\n",
      "        Poor       1.00      1.00      1.00       714\n",
      "\n",
      "    accuracy                           1.00      1102\n",
      "   macro avg       1.00      1.00      1.00      1102\n",
      "weighted avg       1.00      1.00      1.00      1102\n",
      "\n",
      "Confusion Matrix:\n",
      " [[136   0   0   0]\n",
      " [  0   3   0   0]\n",
      " [  0   0 249   0]\n",
      " [  0   0   0 714]]\n"
     ]
    },
    {
     "ename": "TypeError",
     "evalue": "Image data of dtype object cannot be converted to float",
     "output_type": "error",
     "traceback": [
      "\u001b[1;31m---------------------------------------------------------------------------\u001b[0m",
      "\u001b[1;31mTypeError\u001b[0m                                 Traceback (most recent call last)",
      "Cell \u001b[1;32mIn[40], line 41\u001b[0m\n\u001b[0;32m     39\u001b[0m \u001b[38;5;66;03m# Affichage de la matrice de confusion\u001b[39;00m\n\u001b[0;32m     40\u001b[0m plt\u001b[38;5;241m.\u001b[39mfigure(figsize\u001b[38;5;241m=\u001b[39m(\u001b[38;5;241m8\u001b[39m, \u001b[38;5;241m6\u001b[39m))\n\u001b[1;32m---> 41\u001b[0m plt\u001b[38;5;241m.\u001b[39mimshow(confusion_matrix, interpolation\u001b[38;5;241m=\u001b[39m\u001b[38;5;124m'\u001b[39m\u001b[38;5;124mnearest\u001b[39m\u001b[38;5;124m'\u001b[39m, cmap\u001b[38;5;241m=\u001b[39mplt\u001b[38;5;241m.\u001b[39mcm\u001b[38;5;241m.\u001b[39mBlues)\n\u001b[0;32m     42\u001b[0m plt\u001b[38;5;241m.\u001b[39mtitle(\u001b[38;5;124m\"\u001b[39m\u001b[38;5;124mConfusion Matrix\u001b[39m\u001b[38;5;124m\"\u001b[39m)\n\u001b[0;32m     43\u001b[0m plt\u001b[38;5;241m.\u001b[39mcolorbar()\n",
      "File \u001b[1;32m~\\anaconda3\\Lib\\site-packages\\matplotlib\\pyplot.py:3346\u001b[0m, in \u001b[0;36mimshow\u001b[1;34m(X, cmap, norm, aspect, interpolation, alpha, vmin, vmax, origin, extent, interpolation_stage, filternorm, filterrad, resample, url, data, **kwargs)\u001b[0m\n\u001b[0;32m   3325\u001b[0m \u001b[38;5;129m@_copy_docstring_and_deprecators\u001b[39m(Axes\u001b[38;5;241m.\u001b[39mimshow)\n\u001b[0;32m   3326\u001b[0m \u001b[38;5;28;01mdef\u001b[39;00m \u001b[38;5;21mimshow\u001b[39m(\n\u001b[0;32m   3327\u001b[0m     X: ArrayLike \u001b[38;5;241m|\u001b[39m PIL\u001b[38;5;241m.\u001b[39mImage\u001b[38;5;241m.\u001b[39mImage,\n\u001b[1;32m   (...)\u001b[0m\n\u001b[0;32m   3344\u001b[0m     \u001b[38;5;241m*\u001b[39m\u001b[38;5;241m*\u001b[39mkwargs,\n\u001b[0;32m   3345\u001b[0m ) \u001b[38;5;241m-\u001b[39m\u001b[38;5;241m>\u001b[39m AxesImage:\n\u001b[1;32m-> 3346\u001b[0m     __ret \u001b[38;5;241m=\u001b[39m gca()\u001b[38;5;241m.\u001b[39mimshow(\n\u001b[0;32m   3347\u001b[0m         X,\n\u001b[0;32m   3348\u001b[0m         cmap\u001b[38;5;241m=\u001b[39mcmap,\n\u001b[0;32m   3349\u001b[0m         norm\u001b[38;5;241m=\u001b[39mnorm,\n\u001b[0;32m   3350\u001b[0m         aspect\u001b[38;5;241m=\u001b[39maspect,\n\u001b[0;32m   3351\u001b[0m         interpolation\u001b[38;5;241m=\u001b[39minterpolation,\n\u001b[0;32m   3352\u001b[0m         alpha\u001b[38;5;241m=\u001b[39malpha,\n\u001b[0;32m   3353\u001b[0m         vmin\u001b[38;5;241m=\u001b[39mvmin,\n\u001b[0;32m   3354\u001b[0m         vmax\u001b[38;5;241m=\u001b[39mvmax,\n\u001b[0;32m   3355\u001b[0m         origin\u001b[38;5;241m=\u001b[39morigin,\n\u001b[0;32m   3356\u001b[0m         extent\u001b[38;5;241m=\u001b[39mextent,\n\u001b[0;32m   3357\u001b[0m         interpolation_stage\u001b[38;5;241m=\u001b[39minterpolation_stage,\n\u001b[0;32m   3358\u001b[0m         filternorm\u001b[38;5;241m=\u001b[39mfilternorm,\n\u001b[0;32m   3359\u001b[0m         filterrad\u001b[38;5;241m=\u001b[39mfilterrad,\n\u001b[0;32m   3360\u001b[0m         resample\u001b[38;5;241m=\u001b[39mresample,\n\u001b[0;32m   3361\u001b[0m         url\u001b[38;5;241m=\u001b[39murl,\n\u001b[0;32m   3362\u001b[0m         \u001b[38;5;241m*\u001b[39m\u001b[38;5;241m*\u001b[39m({\u001b[38;5;124m\"\u001b[39m\u001b[38;5;124mdata\u001b[39m\u001b[38;5;124m\"\u001b[39m: data} \u001b[38;5;28;01mif\u001b[39;00m data \u001b[38;5;129;01mis\u001b[39;00m \u001b[38;5;129;01mnot\u001b[39;00m \u001b[38;5;28;01mNone\u001b[39;00m \u001b[38;5;28;01melse\u001b[39;00m {}),\n\u001b[0;32m   3363\u001b[0m         \u001b[38;5;241m*\u001b[39m\u001b[38;5;241m*\u001b[39mkwargs,\n\u001b[0;32m   3364\u001b[0m     )\n\u001b[0;32m   3365\u001b[0m     sci(__ret)\n\u001b[0;32m   3366\u001b[0m     \u001b[38;5;28;01mreturn\u001b[39;00m __ret\n",
      "File \u001b[1;32m~\\anaconda3\\Lib\\site-packages\\matplotlib\\__init__.py:1465\u001b[0m, in \u001b[0;36m_preprocess_data.<locals>.inner\u001b[1;34m(ax, data, *args, **kwargs)\u001b[0m\n\u001b[0;32m   1462\u001b[0m \u001b[38;5;129m@functools\u001b[39m\u001b[38;5;241m.\u001b[39mwraps(func)\n\u001b[0;32m   1463\u001b[0m \u001b[38;5;28;01mdef\u001b[39;00m \u001b[38;5;21minner\u001b[39m(ax, \u001b[38;5;241m*\u001b[39margs, data\u001b[38;5;241m=\u001b[39m\u001b[38;5;28;01mNone\u001b[39;00m, \u001b[38;5;241m*\u001b[39m\u001b[38;5;241m*\u001b[39mkwargs):\n\u001b[0;32m   1464\u001b[0m     \u001b[38;5;28;01mif\u001b[39;00m data \u001b[38;5;129;01mis\u001b[39;00m \u001b[38;5;28;01mNone\u001b[39;00m:\n\u001b[1;32m-> 1465\u001b[0m         \u001b[38;5;28;01mreturn\u001b[39;00m func(ax, \u001b[38;5;241m*\u001b[39m\u001b[38;5;28mmap\u001b[39m(sanitize_sequence, args), \u001b[38;5;241m*\u001b[39m\u001b[38;5;241m*\u001b[39mkwargs)\n\u001b[0;32m   1467\u001b[0m     bound \u001b[38;5;241m=\u001b[39m new_sig\u001b[38;5;241m.\u001b[39mbind(ax, \u001b[38;5;241m*\u001b[39margs, \u001b[38;5;241m*\u001b[39m\u001b[38;5;241m*\u001b[39mkwargs)\n\u001b[0;32m   1468\u001b[0m     auto_label \u001b[38;5;241m=\u001b[39m (bound\u001b[38;5;241m.\u001b[39marguments\u001b[38;5;241m.\u001b[39mget(label_namer)\n\u001b[0;32m   1469\u001b[0m                   \u001b[38;5;129;01mor\u001b[39;00m bound\u001b[38;5;241m.\u001b[39mkwargs\u001b[38;5;241m.\u001b[39mget(label_namer))\n",
      "File \u001b[1;32m~\\anaconda3\\Lib\\site-packages\\matplotlib\\axes\\_axes.py:5751\u001b[0m, in \u001b[0;36mAxes.imshow\u001b[1;34m(self, X, cmap, norm, aspect, interpolation, alpha, vmin, vmax, origin, extent, interpolation_stage, filternorm, filterrad, resample, url, **kwargs)\u001b[0m\n\u001b[0;32m   5748\u001b[0m \u001b[38;5;28;01mif\u001b[39;00m aspect \u001b[38;5;129;01mis\u001b[39;00m \u001b[38;5;129;01mnot\u001b[39;00m \u001b[38;5;28;01mNone\u001b[39;00m:\n\u001b[0;32m   5749\u001b[0m     \u001b[38;5;28mself\u001b[39m\u001b[38;5;241m.\u001b[39mset_aspect(aspect)\n\u001b[1;32m-> 5751\u001b[0m im\u001b[38;5;241m.\u001b[39mset_data(X)\n\u001b[0;32m   5752\u001b[0m im\u001b[38;5;241m.\u001b[39mset_alpha(alpha)\n\u001b[0;32m   5753\u001b[0m \u001b[38;5;28;01mif\u001b[39;00m im\u001b[38;5;241m.\u001b[39mget_clip_path() \u001b[38;5;129;01mis\u001b[39;00m \u001b[38;5;28;01mNone\u001b[39;00m:\n\u001b[0;32m   5754\u001b[0m     \u001b[38;5;66;03m# image does not already have clipping set, clip to axes patch\u001b[39;00m\n",
      "File \u001b[1;32m~\\anaconda3\\Lib\\site-packages\\matplotlib\\image.py:723\u001b[0m, in \u001b[0;36m_ImageBase.set_data\u001b[1;34m(self, A)\u001b[0m\n\u001b[0;32m    721\u001b[0m \u001b[38;5;28;01mif\u001b[39;00m \u001b[38;5;28misinstance\u001b[39m(A, PIL\u001b[38;5;241m.\u001b[39mImage\u001b[38;5;241m.\u001b[39mImage):\n\u001b[0;32m    722\u001b[0m     A \u001b[38;5;241m=\u001b[39m pil_to_array(A)  \u001b[38;5;66;03m# Needed e.g. to apply png palette.\u001b[39;00m\n\u001b[1;32m--> 723\u001b[0m \u001b[38;5;28mself\u001b[39m\u001b[38;5;241m.\u001b[39m_A \u001b[38;5;241m=\u001b[39m \u001b[38;5;28mself\u001b[39m\u001b[38;5;241m.\u001b[39m_normalize_image_array(A)\n\u001b[0;32m    724\u001b[0m \u001b[38;5;28mself\u001b[39m\u001b[38;5;241m.\u001b[39m_imcache \u001b[38;5;241m=\u001b[39m \u001b[38;5;28;01mNone\u001b[39;00m\n\u001b[0;32m    725\u001b[0m \u001b[38;5;28mself\u001b[39m\u001b[38;5;241m.\u001b[39mstale \u001b[38;5;241m=\u001b[39m \u001b[38;5;28;01mTrue\u001b[39;00m\n",
      "File \u001b[1;32m~\\anaconda3\\Lib\\site-packages\\matplotlib\\image.py:688\u001b[0m, in \u001b[0;36m_ImageBase._normalize_image_array\u001b[1;34m(A)\u001b[0m\n\u001b[0;32m    686\u001b[0m A \u001b[38;5;241m=\u001b[39m cbook\u001b[38;5;241m.\u001b[39msafe_masked_invalid(A, copy\u001b[38;5;241m=\u001b[39m\u001b[38;5;28;01mTrue\u001b[39;00m)\n\u001b[0;32m    687\u001b[0m \u001b[38;5;28;01mif\u001b[39;00m A\u001b[38;5;241m.\u001b[39mdtype \u001b[38;5;241m!=\u001b[39m np\u001b[38;5;241m.\u001b[39muint8 \u001b[38;5;129;01mand\u001b[39;00m \u001b[38;5;129;01mnot\u001b[39;00m np\u001b[38;5;241m.\u001b[39mcan_cast(A\u001b[38;5;241m.\u001b[39mdtype, \u001b[38;5;28mfloat\u001b[39m, \u001b[38;5;124m\"\u001b[39m\u001b[38;5;124msame_kind\u001b[39m\u001b[38;5;124m\"\u001b[39m):\n\u001b[1;32m--> 688\u001b[0m     \u001b[38;5;28;01mraise\u001b[39;00m \u001b[38;5;167;01mTypeError\u001b[39;00m(\u001b[38;5;124mf\u001b[39m\u001b[38;5;124m\"\u001b[39m\u001b[38;5;124mImage data of dtype \u001b[39m\u001b[38;5;132;01m{\u001b[39;00mA\u001b[38;5;241m.\u001b[39mdtype\u001b[38;5;132;01m}\u001b[39;00m\u001b[38;5;124m cannot be \u001b[39m\u001b[38;5;124m\"\u001b[39m\n\u001b[0;32m    689\u001b[0m                     \u001b[38;5;124mf\u001b[39m\u001b[38;5;124m\"\u001b[39m\u001b[38;5;124mconverted to float\u001b[39m\u001b[38;5;124m\"\u001b[39m)\n\u001b[0;32m    690\u001b[0m \u001b[38;5;28;01mif\u001b[39;00m A\u001b[38;5;241m.\u001b[39mndim \u001b[38;5;241m==\u001b[39m \u001b[38;5;241m3\u001b[39m \u001b[38;5;129;01mand\u001b[39;00m A\u001b[38;5;241m.\u001b[39mshape[\u001b[38;5;241m-\u001b[39m\u001b[38;5;241m1\u001b[39m] \u001b[38;5;241m==\u001b[39m \u001b[38;5;241m1\u001b[39m:\n\u001b[0;32m    691\u001b[0m     A \u001b[38;5;241m=\u001b[39m A\u001b[38;5;241m.\u001b[39msqueeze(\u001b[38;5;241m-\u001b[39m\u001b[38;5;241m1\u001b[39m)  \u001b[38;5;66;03m# If just (M, N, 1), assume scalar and apply colormap.\u001b[39;00m\n",
      "\u001b[1;31mTypeError\u001b[0m: Image data of dtype object cannot be converted to float"
     ]
    },
    {
     "data": {
      "image/png": "[encoded data removed]",
      "text/plain": [
       "<Figure size 800x600 with 1 Axes>"
      ]
     },
     "metadata": {},
     "output_type": "display_data"
    }
   ],
   "source": [
    "import pandas as pd\n",
    "import numpy as np\n",
    "from sklearn.model_selection import KFold, cross_val_score\n",
    "from sklearn.preprocessing import LabelEncoder, StandardScaler\n",
    "from sklearn.feature_selection import SelectKBest, f_classif\n",
    "from sklearn.ensemble import RandomForestClassifier\n",
    "from sklearn.metrics import classification_report, confusion_matrix\n",
    "\n",
    "data = df.copy()         \n",
    "# Sélectionner les caractéristiques les plus importantes\n",
    "X = data.drop(columns=['Classification'])\n",
    "y = data['Classification']\n",
    "selector = SelectKBest(score_func=f_classif, k=10)\n",
    "X_new = selector.fit_transform(X, y)\n",
    "\n",
    "# Standardiser les caractéristiques\n",
    "scaler = StandardScaler()\n",
    "X_new_scaled = scaler.fit_transform(X_new)\n",
    "\n",
    "# Entraîner un modèle de classification (Random Forest par exemple)\n",
    "model = RandomForestClassifier(n_estimators=100, random_state=42)\n",
    "\n",
    "# K-Fold cross-validation\n",
    "kfold = KFold(n_splits=5, shuffle=True, random_state=42)\n",
    "scores = cross_val_score(model, X_new_scaled, y, cv=kfold)\n",
    "print(\"Cross-validation scores:\", scores)\n",
    "print(\"Mean CV score:\", np.mean(scores))\n",
    "\n",
    "# Entraînement final sur toutes les données d'entraînement\n",
    "model.fit(X_new_scaled, y)\n",
    "\n",
    "# Prédictions sur l'ensemble de données complet\n",
    "y_pred = model.predict(X_new_scaled)\n",
    "\n",
    "# Évaluation du modèle\n",
    "print(\"Classification Report:\\n\", classification_report(y, y_pred))\n",
    "print(\"Confusion Matrix:\\n\", confusion_matrix(y, y_pred))\n",
    "\n",
    "# Affichage de la matrice de confusion\n",
    "plt.figure(figsize=(8, 6))\n",
    "plt.imshow(confusion_matrix, interpolation='nearest', cmap=plt.cm.Blues)\n",
    "plt.title(\"Confusion Matrix\")\n",
    "plt.colorbar()\n",
    "classes = np.unique(y)\n",
    "tick_marks = np.arange(len(classes))\n",
    "plt.xticks(tick_marks, classes, rotation=45)\n",
    "plt.yticks(tick_marks, classes)\n",
    "plt.ylabel('True label')\n",
    "plt.xlabel('Predicted label')\n",
    "plt.tight_layout()\n",
    "plt.show()"
   ]
  },
  {
   "cell_type": "code",
   "execution_count": 42,
   "metadata": {},
   "outputs": [
    {
     "name": "stdout",
     "output_type": "stream",
     "text": [
      "RandomForestClassifier - Exactitude : 0.99\n",
      "SVC - Exactitude : 0.97\n"
     ]
    }
   ],
   "source": [
    "import pandas as pd\n",
    "from sklearn.model_selection import train_test_split\n",
    "from sklearn.preprocessing import LabelEncoder\n",
    "from sklearn.ensemble import RandomForestClassifier\n",
    "from sklearn.svm import SVC\n",
    "from sklearn.metrics import accuracy_score\n",
    "\n",
    "# Séparer les fonctionnalités (X) et la variable cible (y)\n",
    "X = df.drop(columns=['Classification'])\n",
    "\n",
    "# Encoder la variable cible\n",
    "label_encoder = LabelEncoder()\n",
    "y_encoded = label_encoder.fit_transform(y)\n",
    "\n",
    "# Diviser les données en ensembles d'entraînement et de test\n",
    "X_train, X_test, y_train, y_test = train_test_split(X, y_encoded, test_size=0.2, random_state=42) #KFOLD\n",
    "\n",
    "# Modèles d'apprentissage à tester\n",
    "models = [\n",
    "    RandomForestClassifier(),\n",
    "    SVC()\n",
    "]\n",
    "\n",
    "# Boucle à travers les modèles, entraîner et évaluer\n",
    "for model in models:\n",
    "    model_name = model.__class__.__name__\n",
    "    \n",
    "    # Entraîner le modèle\n",
    "    model.fit(X_train, y_train)\n",
    "    \n",
    "    # Prédire les étiquettes\n",
    "    y_pred = model.predict(X_test)\n",
    "    \n",
    "    # Calculer l'exactitude\n",
    "    accuracy = accuracy_score(y_test, y_pred)\n",
    "    \n",
    "    print(f\"{model_name} - Exactitude : {accuracy:.2f}\")\n"
   ]
  },
  {
   "cell_type": "code",
   "execution_count": 44,
   "metadata": {},
   "outputs": [
    {
     "name": "stdout",
     "output_type": "stream",
     "text": [
      "Accuracy of RandomForestClassifier: 0.9855072463768116\n",
      "Precision of RandomForestClassifier: 0.992633517495396\n",
      "Recall of RandomForestClassifier: 0.9693502824858756\n",
      "F1 score of RandomForestClassifier: 0.9804395893781369\n",
      "Accuracy of SVC: 0.967391304347826\n",
      "Precision of SVC: 0.975685234305924\n",
      "Recall of SVC: 0.9459510357815443\n",
      "F1 score of SVC: 0.9598545801448601\n"
     ]
    },
    {
     "data": {
      "text/plain": [
       "['rf.pkl']"
      ]
     },
     "execution_count": 44,
     "metadata": {},
     "output_type": "execute_result"
    }
   ],
   "source": [
    "import pandas as pd\n",
    "import numpy as np\n",
    "from sklearn.model_selection import train_test_split\n",
    "from sklearn.svm import SVC\n",
    "from sklearn.ensemble import RandomForestClassifier\n",
    "from sklearn.metrics import accuracy_score, precision_score, recall_score, f1_score, roc_auc_score\n",
    "from joblib import dump\n",
    "\n",
    "# Split the data into training and test sets\n",
    "X_train, X_test, y_train, y_test = train_test_split(\n",
    "    df.drop(columns=['Classification']),\n",
    "    df['Classification'],\n",
    "    test_size=0.25,\n",
    ")\n",
    "\n",
    "# Train the models\n",
    "svc = SVC()\n",
    "svc.fit(X_train, y_train)\n",
    "\n",
    "rf = RandomForestClassifier()\n",
    "rf.fit(X_train, y_train)\n",
    "\n",
    "# Evaluate the models\n",
    "y_pred_svc = svc.predict(X_test)\n",
    "y_pred_rf = rf.predict(X_test)\n",
    "\n",
    "\n",
    "print('Accuracy of RandomForestClassifier:', accuracy_score(y_test, y_pred_rf))\n",
    "print('Precision of RandomForestClassifier:', precision_score(y_test, y_pred_rf, average='macro'))\n",
    "print('Recall of RandomForestClassifier:', recall_score(y_test, y_pred_rf, average='macro'))\n",
    "print('F1 score of RandomForestClassifier:', f1_score(y_test, y_pred_rf, average='macro'))\n",
    "\n",
    "print('Accuracy of SVC:', accuracy_score(y_test, y_pred_svc))\n",
    "print('Precision of SVC:', precision_score(y_test, y_pred_svc, average='macro'))\n",
    "print('Recall of SVC:', recall_score(y_test, y_pred_svc, average='macro'))\n",
    "print('F1 score of SVC:', f1_score(y_test, y_pred_svc, average='macro'))\n",
    "\n",
    "# Save the models\n",
    "dump(svc, 'lr.pkl')\n",
    "dump(rf, 'rf.pkl')\n"
   ]
  },
  {
   "cell_type": "code",
   "execution_count": 46,
   "metadata": {},
   "outputs": [
    {
     "name": "stderr",
     "output_type": "stream",
     "text": [
      "C:\\Users\\varsh\\anaconda3\\Lib\\site-packages\\sklearn\\model_selection\\_split.py:700: UserWarning: The least populated class in y has only 3 members, which is less than n_splits=7.\n",
      "  warnings.warn(\n"
     ]
    },
    {
     "name": "stdout",
     "output_type": "stream",
     "text": [
      "{'C': 100}\n",
      "Accuracy: 0.9782608695652174\n"
     ]
    }
   ],
   "source": [
    "from sklearn.model_selection import GridSearchCV\n",
    "\n",
    "# Create a grid of hyperparameters to tune\n",
    "params = {\"C\": [0.01, 0.1, 1, 10, 100]}\n",
    "\n",
    "# Create a grid search object\n",
    "grid_search = GridSearchCV(model, params, cv=7)\n",
    "\n",
    "# Fit the grid search object to the training data\n",
    "grid_search.fit(X_train, y_train)\n",
    "\n",
    "# Print the best parameters\n",
    "print(grid_search.best_params_)\n",
    "\n",
    "# Make predictions on the test data using the best model\n",
    "y_pred = grid_search.best_estimator_.predict(X_test)\n",
    "\n",
    "# Evaluate the model\n",
    "accuracy = accuracy_score(y_test, y_pred)\n",
    "print(\"Accuracy:\", accuracy)\n"
   ]
  },
  {
   "cell_type": "code",
   "execution_count": 48,
   "metadata": {},
   "outputs": [
    {
     "name": "stdout",
     "output_type": "stream",
     "text": [
      "              precision    recall  f1-score   support\n",
      "\n",
      "         Bad       1.00      0.93      0.96        40\n",
      "    Moderate       1.00      0.95      0.97        59\n",
      "        Poor       0.97      1.00      0.98       177\n",
      "\n",
      "    accuracy                           0.98       276\n",
      "   macro avg       0.99      0.96      0.97       276\n",
      "weighted avg       0.98      0.98      0.98       276\n",
      "\n",
      "Confusion Matrix:\n",
      " [[ 37   0   3]\n",
      " [  0  56   3]\n",
      " [  0   0 177]]\n"
     ]
    },
    {
     "data": {
      "image/png": "[encoded data removed]",
      "text/plain": [
       "<Figure size 800x600 with 2 Axes>"
      ]
     },
     "metadata": {},
     "output_type": "display_data"
    }
   ],
   "source": [
    "# Rapport de classification et matrice de confusion\n",
    "print(classification_report(y_test, y_pred))\n",
    "conf_matrix = confusion_matrix(y_test, y_pred)\n",
    "print(\"Confusion Matrix:\\n\", conf_matrix)\n",
    "\n",
    "# Affichage de la matrice de confusion\n",
    "plt.figure(figsize=(8, 6))\n",
    "plt.imshow(conf_matrix, interpolation='nearest', cmap=plt.cm.Blues)\n",
    "plt.title(\"Confusion Matrix\")\n",
    "plt.colorbar()\n",
    "classes = np.unique(y)\n",
    "tick_marks = np.arange(len(classes))\n",
    "plt.xticks(tick_marks, classes, rotation=45)\n",
    "plt.yticks(tick_marks, classes)\n",
    "plt.ylabel('True label')\n",
    "plt.xlabel('Predicted label')\n",
    "plt.tight_layout()\n",
    "plt.show()"
   ]
  },
  {
   "cell_type": "code",
   "execution_count": 50,
   "metadata": {},
   "outputs": [
    {
     "name": "stderr",
     "output_type": "stream",
     "text": [
      "C:\\Users\\varsh\\AppData\\Local\\Temp\\ipykernel_20876\\658217450.py:37: FutureWarning: \n",
      "\n",
      "The `ci` parameter is deprecated. Use `errorbar='sd'` for the same effect.\n",
      "\n",
      "  ax = sns.barplot(x='K Values', y='Accuracy', data=data, ci='sd')  # ci='sd' adds error bars\n"
     ]
    },
    {
     "data": {
      "image/png": "[encoded data removed]",
      "text/plain": [
       "<Figure size 1000x600 with 1 Axes>"
      ]
     },
     "metadata": {},
     "output_type": "display_data"
    }
   ],
   "source": [
    "import numpy as np\n",
    "import pandas as pd\n",
    "from sklearn.model_selection import KFold\n",
    "from sklearn.neighbors import KNeighborsClassifier\n",
    "from sklearn.metrics import accuracy_score\n",
    "import seaborn as sns\n",
    "import matplotlib.pyplot as plt\n",
    "\n",
    "# Load your dataset into the 'df' DataFrame\n",
    "# df = pd.read_csv('your_dataset.csv')\n",
    "\n",
    "kfold = KFold(n_splits=5, shuffle=True, random_state=42)\n",
    "\n",
    "accuracy_scores = []\n",
    "k_values = []\n",
    "\n",
    "X, y = df.drop('Classification', axis=1), df['Classification']\n",
    "\n",
    "for train_index, test_index in kfold.split(X):\n",
    "    X_train, X_test = np.array(X.iloc[train_index]), np.array(X.iloc[test_index])\n",
    "    y_train, y_test = np.array(y.iloc[train_index]), np.array(y.iloc[test_index])\n",
    "\n",
    "    for k in range(1, 6):  # Try different values of k (1 to 5)\n",
    "        knn_model = KNeighborsClassifier(n_neighbors=k)\n",
    "        knn_model.fit(X_train, y_train)\n",
    "        y_pred = knn_model.predict(X_test)\n",
    "\n",
    "        accuracy = accuracy_score(y_test, y_pred)\n",
    "        accuracy_scores.append(accuracy)\n",
    "        k_values.append(k)\n",
    "\n",
    "# Create a DataFrame to store the data for the plot\n",
    "data = pd.DataFrame({'K Values': k_values, 'Accuracy': accuracy_scores})\n",
    "\n",
    "# Create the Seaborn bar plot\n",
    "plt.figure(figsize=(10, 6))\n",
    "ax = sns.barplot(x='K Values', y='Accuracy', data=data, ci='sd')  # ci='sd' adds error bars\n",
    "plt.title('Mean Accuracy for Different K Values')\n",
    "plt.xlabel('K Values')\n",
    "plt.ylabel('Mean Accuracy')\n",
    "\n",
    "# Annotate each bar with the corresponding percentage\n",
    "for p in ax.patches:\n",
    "    percentage = f'{p.get_height()*100:.4f}%'\n",
    "    ax.annotate(percentage, (p.get_x() + p.get_width() / 2., p.get_height()),\n",
    "                ha='center', va='center', fontsize=10, color='black', xytext=(0, 10),\n",
    "                textcoords='offset points')\n",
    "\n",
    "plt.show()"
   ]
  },
  {
   "cell_type": "code",
   "execution_count": 52,
   "metadata": {},
   "outputs": [
    {
     "name": "stdout",
     "output_type": "stream",
     "text": [
      "Best parameters: {'n_neighbors': 9}\n",
      "Best mean accuracy: 0.9836733854380914\n"
     ]
    }
   ],
   "source": [
    "from sklearn.model_selection import GridSearchCV\n",
    "\n",
    "param_grid = {'n_neighbors': [1, 3, 5, 7, 9]}\n",
    "grid_search = GridSearchCV(KNeighborsClassifier(), param_grid, cv=kfold, scoring='accuracy')\n",
    "grid_search.fit(X, y)\n",
    "\n",
    "print('Best parameters:', grid_search.best_params_)\n",
    "print('Best mean accuracy:', grid_search.best_score_)"
   ]
  },
  {
   "cell_type": "code",
   "execution_count": 54,
   "metadata": {},
   "outputs": [
    {
     "name": "stdout",
     "output_type": "stream",
     "text": [
      "              precision    recall  f1-score   support\n",
      "\n",
      "         Bad       1.00      1.00      1.00        34\n",
      "    Moderate       1.00      1.00      1.00        45\n",
      "        Poor       1.00      1.00      1.00       141\n",
      "\n",
      "    accuracy                           1.00       220\n",
      "   macro avg       1.00      1.00      1.00       220\n",
      "weighted avg       1.00      1.00      1.00       220\n",
      "\n",
      "Confusion Matrix:\n",
      " [[ 34   0   0]\n",
      " [  0  45   0]\n",
      " [  0   0 141]]\n"
     ]
    },
    {
     "data": {
      "image/png": "[encoded data removed]",
      "text/plain": [
       "<Figure size 800x600 with 2 Axes>"
      ]
     },
     "metadata": {},
     "output_type": "display_data"
    }
   ],
   "source": [
    "import numpy as np\n",
    "import matplotlib.pyplot as plt\n",
    "import seaborn as sns\n",
    "from sklearn.model_selection import KFold\n",
    "from sklearn.ensemble import RandomForestClassifier\n",
    "from sklearn.metrics import accuracy_score, confusion_matrix\n",
    "\n",
    "# Données X et y doivent être définies ici\n",
    "X, y = df.drop('Classification', axis=1), df['Classification']\n",
    "\n",
    "kf = KFold(n_splits=5)\n",
    "\n",
    "# Paramètres à tester\n",
    "n_estimators_list = [50, 100, 200]\n",
    "max_depth_list = [None, 10, 20]\n",
    "criterion_list = ['gini', 'entropy']\n",
    "\n",
    "# Stockage des résultats pour chaque configuration\n",
    "accuracy_scores_n_estimators = []\n",
    "accuracy_scores_max_depth = []\n",
    "accuracy_scores_criterion = []\n",
    "\n",
    "for n_estimators in n_estimators_list:\n",
    "    accuracy_scores_rf = []\n",
    "    for train_index, test_index in kf.split(X):\n",
    "        X_train, X_test = np.array(X.iloc[train_index]), np.array(X.iloc[test_index])\n",
    "        y_train, y_test = np.array(y.iloc[train_index]), np.array(y.iloc[test_index])\n",
    "\n",
    "        rf_model = RandomForestClassifier(n_estimators=n_estimators)\n",
    "        rf_model.fit(X_train, y_train)\n",
    "        y_pred = rf_model.predict(X_test)\n",
    "\n",
    "        accuracy = accuracy_score(y_test, y_pred)\n",
    "        accuracy_scores_rf.append(accuracy)\n",
    "\n",
    "    average_accuracy = sum(accuracy_scores_rf) / len(accuracy_scores_rf)\n",
    "    accuracy_scores_n_estimators.append(average_accuracy)\n",
    "\n",
    "best_n_estimators_index = accuracy_scores_n_estimators.index(max(accuracy_scores_n_estimators))\n",
    "best_n_estimators = n_estimators_list[best_n_estimators_index]\n",
    "rf_model_best = RandomForestClassifier(n_estimators=best_n_estimators)\n",
    "rf_model_best.fit(X_train, y_train)\n",
    "y_pred_best = rf_model_best.predict(X_test)\n",
    "cm_best = confusion_matrix(y_test, y_pred_best)\n",
    "\n",
    "# Rapport de classification et matrice de confusion\n",
    "print(classification_report(y_test, y_pred))\n",
    "conf_matrix = confusion_matrix(y_test, y_pred)\n",
    "print(\"Confusion Matrix:\\n\", conf_matrix)\n",
    "\n",
    "# Affichage de la matrice de confusion\n",
    "plt.figure(figsize=(8, 6))\n",
    "plt.imshow(conf_matrix, interpolation='nearest', cmap=plt.cm.Blues)\n",
    "plt.title(\"Confusion Matrix\")\n",
    "plt.colorbar()\n",
    "classes = np.unique(y)\n",
    "tick_marks = np.arange(len(classes))\n",
    "plt.xticks(tick_marks, classes, rotation=45)\n",
    "plt.yticks(tick_marks, classes)\n",
    "plt.ylabel('True label')\n",
    "plt.xlabel('Predicted label')\n",
    "plt.tight_layout()\n",
    "plt.show()"
   ]
  },
  {
   "cell_type": "code",
   "execution_count": 56,
   "metadata": {},
   "outputs": [
    {
     "name": "stdout",
     "output_type": "stream",
     "text": [
      "Moyenne de précision pour différents nombres d'estimateurs: [0.9945660222130812, 0.9945660222130812, 0.9936569313039902]\n",
      "Moyenne de précision pour différentes profondeurs max: [0.9936569313039902, 0.9927478403948993, 0.9945660222130812]\n",
      "Moyenne de précision pour différents critères: [0.9936569313039902, 0.9945660222130812]\n"
     ]
    }
   ],
   "source": [
    "from sklearn.model_selection import KFold\n",
    "from sklearn.ensemble import RandomForestClassifier\n",
    "from sklearn.metrics import accuracy_score\n",
    "import numpy as np\n",
    "\n",
    "# Données X et y doivent être définies ici\n",
    "\n",
    "kf = KFold(n_splits=5)\n",
    "\n",
    "# Paramètres à tester\n",
    "n_estimators_list = [50, 100, 200]\n",
    "max_depth_list = [None, 10, 20]\n",
    "criterion_list = ['gini', 'entropy']\n",
    "\n",
    "# Stockage des résultats pour chaque configuration\n",
    "accuracy_scores_n_estimators = []\n",
    "accuracy_scores_max_depth = []\n",
    "accuracy_scores_criterion = []\n",
    "\n",
    "for n_estimators in n_estimators_list:\n",
    "    accuracy_scores_rf = []\n",
    "    for train_index, test_index in kf.split(X):\n",
    "        X_train, X_test = np.array(X.iloc[train_index]), np.array(X.iloc[test_index])\n",
    "        y_train, y_test = np.array(y.iloc[train_index]), np.array(y.iloc[test_index])\n",
    "\n",
    "        rf_model = RandomForestClassifier(n_estimators=n_estimators)\n",
    "        rf_model.fit(X_train, y_train)\n",
    "        y_pred = rf_model.predict(X_test)\n",
    "\n",
    "        accuracy = accuracy_score(y_test, y_pred)\n",
    "        accuracy_scores_rf.append(accuracy)\n",
    "\n",
    "    average_accuracy = sum(accuracy_scores_rf) / len(accuracy_scores_rf)\n",
    "    accuracy_scores_n_estimators.append(average_accuracy)\n",
    "\n",
    "for max_depth in max_depth_list:\n",
    "    accuracy_scores_rf = []\n",
    "    for train_index, test_index in kf.split(X):\n",
    "        X_train, X_test = np.array(X.iloc[train_index]), np.array(X.iloc[test_index])\n",
    "        y_train, y_test = np.array(y.iloc[train_index]), np.array(y.iloc[test_index])\n",
    "\n",
    "        rf_model = RandomForestClassifier(max_depth=max_depth)\n",
    "        rf_model.fit(X_train, y_train)\n",
    "        y_pred = rf_model.predict(X_test)\n",
    "\n",
    "        accuracy = accuracy_score(y_test, y_pred)\n",
    "        accuracy_scores_rf.append(accuracy)\n",
    "\n",
    "    average_accuracy = sum(accuracy_scores_rf) / len(accuracy_scores_rf)\n",
    "    accuracy_scores_max_depth.append(average_accuracy)\n",
    "\n",
    "for criterion in criterion_list:\n",
    "    accuracy_scores_rf = []\n",
    "    for train_index, test_index in kf.split(X):\n",
    "        X_train, X_test = np.array(X.iloc[train_index]), np.array(X.iloc[test_index])\n",
    "        y_train, y_test = np.array(y.iloc[train_index]), np.array(y.iloc[test_index])\n",
    "\n",
    "        rf_model = RandomForestClassifier(criterion=criterion)\n",
    "        rf_model.fit(X_train, y_train)\n",
    "        y_pred = rf_model.predict(X_test)\n",
    "\n",
    "        accuracy = accuracy_score(y_test, y_pred)\n",
    "        accuracy_scores_rf.append(accuracy)\n",
    "\n",
    "    average_accuracy = sum(accuracy_scores_rf) / len(accuracy_scores_rf)\n",
    "    accuracy_scores_criterion.append(average_accuracy)\n",
    "\n",
    "print(\"Moyenne de précision pour différents nombres d'estimateurs:\", accuracy_scores_n_estimators)\n",
    "print(\"Moyenne de précision pour différentes profondeurs max:\", accuracy_scores_max_depth)\n",
    "print(\"Moyenne de précision pour différents critères:\", accuracy_scores_criterion)"
   ]
  },
  {
   "cell_type": "code",
   "execution_count": 58,
   "metadata": {},
   "outputs": [
    {
     "name": "stdout",
     "output_type": "stream",
     "text": [
      "========================================\n",
      "RandomForestClassifier\n",
      "========================================\n",
      "Best parameters: {'n_estimators': 100, 'max_depth': None, 'min_samples_split': 5}\n",
      "========================================\n",
      "mean accuracy: 0.9937\n",
      "mean precision: 0.9937\n",
      "mean recall: 0.9937\n",
      "mean f1 score: 0.9927\n",
      "========================================\n",
      "confusion matrix:\n",
      "[[ 26   0   0   0]\n",
      " [  0   1   0   0]\n",
      " [  0   0  41   0]\n",
      " [  0   0   0 152]]\n",
      "========================================\n"
     ]
    }
   ],
   "source": [
    "from sklearn.metrics import accuracy_score, precision_score, recall_score, f1_score, confusion_matrix\n",
    "best_score = 0\n",
    "best_params = {}\n",
    "best_accuracy = 0\n",
    "best_precision = 0\n",
    "best_recall = 0\n",
    "best_f1_score = 0\n",
    "# RandomForestClassifier with different n_estimators, max_depth, and min_samples_split\n",
    "for n_estimators in [100, 200]:\n",
    "    for max_depth in [None, 3]:\n",
    "        for min_samples_split in [2, 5]:\n",
    "            clf = RandomForestClassifier(n_estimators=n_estimators, max_depth=max_depth, min_samples_split=min_samples_split)\n",
    "            scores = []\n",
    "            precisions = []\n",
    "            recalls = []\n",
    "            f1_scores = []\n",
    "            confusion_matrices = []\n",
    "            for train_index, test_index in kfold.split(X):\n",
    "                X_train, X_test = X.iloc[train_index], X.iloc[test_index]\n",
    "                y_train, y_test = y.iloc[train_index], y.iloc[test_index]\n",
    "                clf.fit(X_train, y_train)  # fit the classifier on the training data\n",
    "                scores.append(accuracy_score(y_test, clf.predict(X_test)))\n",
    "                precisions.append(precision_score(y_test, clf.predict(X_test), average='weighted', zero_division=1))\n",
    "                recalls.append(recall_score(y_test, clf.predict(X_test), average='weighted'))\n",
    "                f1_scores.append(f1_score(y_test, clf.predict(X_test), average='weighted'))\n",
    "                confusion_matrices.append(confusion_matrix(y_test, clf.predict(X_test)))\n",
    "            mean_score = np.mean(scores)\n",
    "            if mean_score > best_score:\n",
    "                best_score = mean_score\n",
    "                best_params = {'n_estimators': n_estimators, 'max_depth': max_depth, 'min_samples_split': min_samples_split}\n",
    "                best_confusion_matrix = confusion_matrices[np.argmax(scores)]\n",
    "                best_accuracy = np.mean(scores)\n",
    "                best_precision = np.mean(precisions)\n",
    "                best_recall = np.mean(recalls)\n",
    "                best_f1_score = np.mean(f1_scores)\n",
    "print(\"=\"*40)\n",
    "print(clf.__class__.__name__)\n",
    "print(\"=\"*40)\n",
    "print(f\"Best parameters: {best_params}\")\n",
    "print(\"=\"*40)\n",
    "print(\"mean accuracy: {:.4f}\".format(best_accuracy))\n",
    "print(\"mean precision: {:.4f}\".format(best_precision))\n",
    "print(\"mean recall: {:.4f}\".format(best_recall))\n",
    "print(\"mean f1 score: {:.4f}\".format(best_f1_score))\n",
    "print(\"=\"*40)\n",
    "print(\"confusion matrix:\")\n",
    "print(best_confusion_matrix)\n",
    "print(\"=\"*40)"
   ]
  },
  {
   "cell_type": "code",
   "execution_count": 59,
   "metadata": {},
   "outputs": [
    {
     "data": {
      "text/html": [
       "<div>\n",
       "<style scoped>\n",
       "    .dataframe tbody tr th:only-of-type {\n",
       "        vertical-align: middle;\n",
       "    }\n",
       "\n",
       "    .dataframe tbody tr th {\n",
       "        vertical-align: top;\n",
       "    }\n",
       "\n",
       "    .dataframe thead th {\n",
       "        text-align: right;\n",
       "    }\n",
       "</style>\n",
       "<table border=\"1\" class=\"dataframe\">\n",
       "  <thead>\n",
       "    <tr style=\"text-align: right;\">\n",
       "      <th></th>\n",
       "      <th>TDS</th>\n",
       "      <th>E.C</th>\n",
       "      <th>Na</th>\n",
       "      <th>Cl</th>\n",
       "      <th>T.H</th>\n",
       "      <th>HCO3</th>\n",
       "      <th>Mg</th>\n",
       "      <th>SAR</th>\n",
       "      <th>NO3</th>\n",
       "      <th>Ca</th>\n",
       "    </tr>\n",
       "  </thead>\n",
       "  <tbody>\n",
       "    <tr>\n",
       "      <th>count</th>\n",
       "      <td>1102.000000</td>\n",
       "      <td>1102.000000</td>\n",
       "      <td>1102.000000</td>\n",
       "      <td>1102.000000</td>\n",
       "      <td>1102.000000</td>\n",
       "      <td>1102.000000</td>\n",
       "      <td>1102.000000</td>\n",
       "      <td>1102.000000</td>\n",
       "      <td>1102.000000</td>\n",
       "      <td>1102.000000</td>\n",
       "    </tr>\n",
       "    <tr>\n",
       "      <th>mean</th>\n",
       "      <td>861.921452</td>\n",
       "      <td>1346.752269</td>\n",
       "      <td>120.921765</td>\n",
       "      <td>190.453721</td>\n",
       "      <td>417.851983</td>\n",
       "      <td>299.102710</td>\n",
       "      <td>50.764973</td>\n",
       "      <td>2.722132</td>\n",
       "      <td>74.818648</td>\n",
       "      <td>83.696189</td>\n",
       "    </tr>\n",
       "    <tr>\n",
       "      <th>std</th>\n",
       "      <td>526.819814</td>\n",
       "      <td>823.155959</td>\n",
       "      <td>103.307066</td>\n",
       "      <td>190.242861</td>\n",
       "      <td>262.720824</td>\n",
       "      <td>131.326806</td>\n",
       "      <td>38.469299</td>\n",
       "      <td>2.699370</td>\n",
       "      <td>97.160428</td>\n",
       "      <td>64.470921</td>\n",
       "    </tr>\n",
       "    <tr>\n",
       "      <th>min</th>\n",
       "      <td>131.200000</td>\n",
       "      <td>205.000000</td>\n",
       "      <td>5.076154</td>\n",
       "      <td>10.000000</td>\n",
       "      <td>39.991776</td>\n",
       "      <td>30.000000</td>\n",
       "      <td>4.862000</td>\n",
       "      <td>0.181178</td>\n",
       "      <td>0.097438</td>\n",
       "      <td>1.200000</td>\n",
       "    </tr>\n",
       "    <tr>\n",
       "      <th>25%</th>\n",
       "      <td>500.000000</td>\n",
       "      <td>781.250000</td>\n",
       "      <td>55.645000</td>\n",
       "      <td>60.000000</td>\n",
       "      <td>239.967105</td>\n",
       "      <td>200.000000</td>\n",
       "      <td>24.310000</td>\n",
       "      <td>1.351652</td>\n",
       "      <td>17.727073</td>\n",
       "      <td>40.000000</td>\n",
       "    </tr>\n",
       "    <tr>\n",
       "      <th>50%</th>\n",
       "      <td>751.040000</td>\n",
       "      <td>1173.500000</td>\n",
       "      <td>93.000000</td>\n",
       "      <td>130.000000</td>\n",
       "      <td>359.925987</td>\n",
       "      <td>290.000000</td>\n",
       "      <td>38.896000</td>\n",
       "      <td>2.061658</td>\n",
       "      <td>41.652732</td>\n",
       "      <td>64.000000</td>\n",
       "    </tr>\n",
       "    <tr>\n",
       "      <th>75%</th>\n",
       "      <td>1066.720000</td>\n",
       "      <td>1666.750000</td>\n",
       "      <td>151.600000</td>\n",
       "      <td>260.000000</td>\n",
       "      <td>519.897204</td>\n",
       "      <td>378.866746</td>\n",
       "      <td>68.068000</td>\n",
       "      <td>3.163959</td>\n",
       "      <td>95.888857</td>\n",
       "      <td>104.000000</td>\n",
       "    </tr>\n",
       "    <tr>\n",
       "      <th>max</th>\n",
       "      <td>6079.360000</td>\n",
       "      <td>9499.000000</td>\n",
       "      <td>748.100000</td>\n",
       "      <td>2480.000000</td>\n",
       "      <td>3479.226974</td>\n",
       "      <td>1070.000000</td>\n",
       "      <td>457.028000</td>\n",
       "      <td>31.435063</td>\n",
       "      <td>1028.000000</td>\n",
       "      <td>640.000000</td>\n",
       "    </tr>\n",
       "  </tbody>\n",
       "</table>\n",
       "</div>"
      ],
      "text/plain": [
       "               TDS          E.C           Na           Cl          T.H  \\\n",
       "count  1102.000000  1102.000000  1102.000000  1102.000000  1102.000000   \n",
       "mean    861.921452  1346.752269   120.921765   190.453721   417.851983   \n",
       "std     526.819814   823.155959   103.307066   190.242861   262.720824   \n",
       "min     131.200000   205.000000     5.076154    10.000000    39.991776   \n",
       "25%     500.000000   781.250000    55.645000    60.000000   239.967105   \n",
       "50%     751.040000  1173.500000    93.000000   130.000000   359.925987   \n",
       "75%    1066.720000  1666.750000   151.600000   260.000000   519.897204   \n",
       "max    6079.360000  9499.000000   748.100000  2480.000000  3479.226974   \n",
       "\n",
       "              HCO3           Mg          SAR          NO3           Ca  \n",
       "count  1102.000000  1102.000000  1102.000000  1102.000000  1102.000000  \n",
       "mean    299.102710    50.764973     2.722132    74.818648    83.696189  \n",
       "std     131.326806    38.469299     2.699370    97.160428    64.470921  \n",
       "min      30.000000     4.862000     0.181178     0.097438     1.200000  \n",
       "25%     200.000000    24.310000     1.351652    17.727073    40.000000  \n",
       "50%     290.000000    38.896000     2.061658    41.652732    64.000000  \n",
       "75%     378.866746    68.068000     3.163959    95.888857   104.000000  \n",
       "max    1070.000000   457.028000    31.435063  1028.000000   640.000000  "
      ]
     },
     "execution_count": 59,
     "metadata": {},
     "output_type": "execute_result"
    }
   ],
   "source": [
    "df.describe()"
   ]
  },
  {
   "cell_type": "code",
   "execution_count": 60,
   "metadata": {},
   "outputs": [],
   "source": [
    "df.to_csv(output_path, index=False)"
   ]
  }
 ],
 "metadata": {
  "kernelspec": {
   "display_name": "Python 3 (ipykernel)",
   "language": "python",
   "name": "python3"
  },
  "language_info": {
   "codemirror_mode": {
    "name": "ipython",
    "version": 3
   },
   "file_extension": ".py",
   "mimetype": "text/x-python",
   "name": "python",
   "nbconvert_exporter": "python",
   "pygments_lexer": "ipython3",
   "version": "3.11.7"
  }
 },
 "nbformat": 4,
 "nbformat_minor": 4
}
